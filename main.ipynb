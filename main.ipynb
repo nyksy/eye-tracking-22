{
 "cells": [
  {
   "cell_type": "markdown",
   "metadata": {},
   "source": [
    "# Data-analysis, group 3\n",
    "Our subjects: 3,5,11,17,19,25,31,33"
   ]
  },
  {
   "cell_type": "code",
   "execution_count": 16,
   "metadata": {},
   "outputs": [],
   "source": [
    "# imports and stuff\n",
    "from dataclasses import dataclass\n",
    "from typing import List, Optional\n",
    "import matplotlib.pyplot as plt\n",
    "from os.path import join as pj\n",
    "import scipy.io as io\n",
    "import pandas as pd\n",
    "import numpy as np\n",
    "import uneye\n",
    "import math\n",
    "import csv"
   ]
  },
  {
   "cell_type": "markdown",
   "metadata": {},
   "source": [
    "## 1. Reading the data"
   ]
  },
  {
   "cell_type": "code",
   "execution_count": 17,
   "metadata": {},
   "outputs": [],
   "source": [
    "# constants and helper variables\n",
    "subjects = [3, 5, 11, 17, 19, 25, 31, 33]\n",
    "subjects_formatted = ['s' + str(s) for s in subjects]\n"
   ]
  },
  {
   "cell_type": "code",
   "execution_count": 18,
   "metadata": {},
   "outputs": [],
   "source": [
    "@dataclass\n",
    "class Sample:\n",
    "    \"\"\"Class for a sample from the data\"\"\"\n",
    "    sid: str\n",
    "    known: bool\n",
    "    xi: Optional[List[float]] = None\n",
    "    yi: Optional[List[float]] = None\n"
   ]
  },
  {
   "cell_type": "code",
   "execution_count": 19,
   "metadata": {},
   "outputs": [],
   "source": [
    "def parse_line(line) -> List:\n",
    "    return line.split(',')\n",
    "\n",
    "\n",
    "def parse_classes(lines) -> List[Sample]:\n",
    "    parsed_lines = [parse_line(line) for line in lines]\n",
    "    return [Sample(line[0], line[1], line[2::2], line[3::2]) for line in parsed_lines]\n"
   ]
  },
  {
   "cell_type": "code",
   "execution_count": 20,
   "metadata": {},
   "outputs": [
    {
     "name": "stdout",
     "output_type": "stream",
     "text": [
      "s5 34\n",
      "s17 23\n",
      "s19 14\n",
      "s31 33\n",
      "s3 29\n",
      "s11 10\n",
      "s25 17\n",
      "s33 33\n"
     ]
    }
   ],
   "source": [
    "# reading the lines\n",
    "with open('data/train.csv') as f:\n",
    "    lines = f.readlines()\n",
    "\n",
    "    our_lines = [line for line in lines\n",
    "                 if line.split(',')[0]\n",
    "                 in subjects_formatted]\n",
    "\n",
    "    samples = parse_classes(our_lines)\n",
    "\n",
    "    sample_dict = {}\n",
    "\n",
    "    for sample in samples:\n",
    "        sample_dict.setdefault(sample.sid, []).append(sample)\n",
    "\n",
    "    for key, val in sample_dict.items():\n",
    "        print(key, len(val))\n"
   ]
  },
  {
   "cell_type": "markdown",
   "metadata": {},
   "source": [
    "## 2. Fixation detection algorithm"
   ]
  },
  {
   "cell_type": "code",
   "execution_count": 21,
   "metadata": {},
   "outputs": [],
   "source": [
    "def get_dispersion(x, y):\n",
    "    \"\"\"Calculate dispersion, idea from: https://github.com/ecekt/eyegaze\n",
    "\n",
    "    Args:\n",
    "        x (numpy array): x coordinates\n",
    "        y (numpy array): y coordinates\n",
    "\n",
    "    Returns:\n",
    "        float: amount of dispersion\n",
    "    \"\"\"\n",
    "    x = np.array(x)\n",
    "    y = np.array(y)\n",
    "\n",
    "    return ((np.max(x.astype(float)) - np.min(x.astype(float)))\n",
    "            + (np.max(y.astype(float)) - np.min(y.astype(float))))/2\n"
   ]
  },
  {
   "cell_type": "code",
   "execution_count": 22,
   "metadata": {},
   "outputs": [
    {
     "ename": "TypeError",
     "evalue": "ufunc 'isnan' not supported for the input types, and the inputs could not be safely coerced to any supported types according to the casting rule ''safe''",
     "output_type": "error",
     "traceback": [
      "\u001b[1;31m---------------------------------------------------------------------------\u001b[0m",
      "\u001b[1;31mTypeError\u001b[0m                                 Traceback (most recent call last)",
      "\u001b[1;32m<ipython-input-22-e88db278f771>\u001b[0m in \u001b[0;36m<module>\u001b[1;34m\u001b[0m\n\u001b[0;32m      9\u001b[0m \u001b[1;32mfor\u001b[0m \u001b[0msubject\u001b[0m\u001b[1;33m,\u001b[0m \u001b[0msample_list\u001b[0m \u001b[1;32min\u001b[0m \u001b[0msample_dict\u001b[0m\u001b[1;33m.\u001b[0m\u001b[0mitems\u001b[0m\u001b[1;33m(\u001b[0m\u001b[1;33m)\u001b[0m\u001b[1;33m:\u001b[0m\u001b[1;33m\u001b[0m\u001b[1;33m\u001b[0m\u001b[0m\n\u001b[0;32m     10\u001b[0m     \u001b[1;32mfor\u001b[0m \u001b[0msample\u001b[0m \u001b[1;32min\u001b[0m \u001b[0msample_list\u001b[0m\u001b[1;33m:\u001b[0m\u001b[1;33m\u001b[0m\u001b[1;33m\u001b[0m\u001b[0m\n\u001b[1;32m---> 11\u001b[1;33m         \u001b[0mmodel\u001b[0m\u001b[1;33m.\u001b[0m\u001b[0mtrain\u001b[0m\u001b[1;33m(\u001b[0m\u001b[0msample\u001b[0m\u001b[1;33m.\u001b[0m\u001b[0mxi\u001b[0m\u001b[1;33m,\u001b[0m \u001b[0msample\u001b[0m\u001b[1;33m.\u001b[0m\u001b[0myi\u001b[0m\u001b[1;33m,\u001b[0m \u001b[0msample\u001b[0m\u001b[1;33m.\u001b[0m\u001b[0mknown\u001b[0m\u001b[1;33m)\u001b[0m\u001b[1;33m\u001b[0m\u001b[1;33m\u001b[0m\u001b[0m\n\u001b[0m\u001b[0;32m     12\u001b[0m \u001b[1;33m\u001b[0m\u001b[0m\n\u001b[0;32m     13\u001b[0m \u001b[1;31m# plot loss\u001b[0m\u001b[1;33m\u001b[0m\u001b[1;33m\u001b[0m\u001b[1;33m\u001b[0m\u001b[0m\n",
      "\u001b[1;32mc:\\Python\\Python38\\lib\\site-packages\\uneye\\classifier.py\u001b[0m in \u001b[0;36mtrain\u001b[1;34m(self, X, Y, Labels, seed)\u001b[0m\n\u001b[0;32m     92\u001b[0m \u001b[1;33m\u001b[0m\u001b[0m\n\u001b[0;32m     93\u001b[0m         \u001b[1;31m# determine number of classes\u001b[0m\u001b[1;33m\u001b[0m\u001b[1;33m\u001b[0m\u001b[1;33m\u001b[0m\u001b[0m\n\u001b[1;32m---> 94\u001b[1;33m         \u001b[0mclasses\u001b[0m \u001b[1;33m=\u001b[0m \u001b[0mlen\u001b[0m\u001b[1;33m(\u001b[0m\u001b[0mnp\u001b[0m\u001b[1;33m.\u001b[0m\u001b[0munique\u001b[0m\u001b[1;33m(\u001b[0m\u001b[0mLabels\u001b[0m\u001b[1;33m[\u001b[0m\u001b[0mnp\u001b[0m\u001b[1;33m.\u001b[0m\u001b[0misnan\u001b[0m\u001b[1;33m(\u001b[0m\u001b[0mLabels\u001b[0m\u001b[1;33m)\u001b[0m\u001b[1;33m==\u001b[0m\u001b[1;32mFalse\u001b[0m\u001b[1;33m]\u001b[0m\u001b[1;33m)\u001b[0m\u001b[1;33m)\u001b[0m\u001b[1;33m\u001b[0m\u001b[1;33m\u001b[0m\u001b[0m\n\u001b[0m\u001b[0;32m     95\u001b[0m         \u001b[0mself\u001b[0m\u001b[1;33m.\u001b[0m\u001b[0mnet\u001b[0m \u001b[1;33m=\u001b[0m \u001b[0mUNet\u001b[0m\u001b[1;33m(\u001b[0m\u001b[0mclasses\u001b[0m\u001b[1;33m,\u001b[0m\u001b[0mself\u001b[0m\u001b[1;33m.\u001b[0m\u001b[0mks\u001b[0m\u001b[1;33m,\u001b[0m\u001b[0mself\u001b[0m\u001b[1;33m.\u001b[0m\u001b[0mmp\u001b[0m\u001b[1;33m)\u001b[0m\u001b[1;33m\u001b[0m\u001b[1;33m\u001b[0m\u001b[0m\n\u001b[0;32m     96\u001b[0m \u001b[1;33m\u001b[0m\u001b[0m\n",
      "\u001b[1;31mTypeError\u001b[0m: ufunc 'isnan' not supported for the input types, and the inputs could not be safely coerced to any supported types according to the casting rule ''safe''"
     ]
    }
   ],
   "source": [
    "#uneye-palikka\n",
    "\n",
    "model = uneye.DNN(max_iter=500, sampfreq=1000,\n",
    "            lr=0.001, weights_name='weights',\n",
    "            min_sacc_dist=1,min_sacc_dur=6,augmentation=True,\n",
    "            ks=5,mp=5,inf_correction=1.5,val_samples=30)\n",
    "\n",
    "# train\n",
    "for subject, sample_list in sample_dict.items():\n",
    "    for sample in sample_list:\n",
    "        model.train(sample.xi, sample.yi, sample.known)\n",
    "\n",
    "# plot loss\n",
    "import matplotlib.pyplot as plt\n",
    "f = plt.figure(figsize=(4,3))\n",
    "plt.plot(model.loss_train,label='training')\n",
    "plt.plot(model.loss_val,label='test')\n",
    "plt.xlabel('Epoch')\n",
    "plt.ylabel('Loss')\n",
    "plt.title('Training and test loss')\n",
    "plt.legend()\n",
    "plt.tight_layout()\n",
    "plt.show()\n",
    "\n",
    "# predict with trained\n",
    "for subject, sample_list in sample_dict.items():\n",
    "    for sample in sample_list:\n",
    "        Prediction,Probability = (sample.xi, sample.yi, sample.known)\n"
   ]
  },
  {
   "cell_type": "code",
   "execution_count": 23,
   "metadata": {},
   "outputs": [],
   "source": [
    "def idt(x, y, t, max_disp=10, min_dur=50000):\n",
    "\n",
    "    # helper variables\n",
    "    fixations = []\n",
    "    fixation_durations = []\n",
    "    centroid_x = []\n",
    "    centroid_y = []\n",
    "    i = 0\n",
    "    last = 0\n",
    "\n",
    "    # loop points\n",
    "    while(i < len(x)):\n",
    "        \n",
    "        # reset variables\n",
    "        dispersion = 0.0\n",
    "        window = []\n",
    "\n",
    "        # add first timepoint\n",
    "        window.append(t[last])\n",
    "\n",
    "        last_time = t[last]\n",
    "        start_time = last_time\n",
    "\n",
    "        y_fixations = []\n",
    "        x_fixations = []\n",
    "\n",
    "        # Initialize window over first points to cover the duration threshold\n",
    "        while((start_time + min_dur) >= last_time and last + 1 < len(x)):\n",
    "            x_fixations.append(x[last])\n",
    "            y_fixations.append(y[last])\n",
    "\n",
    "            last = last + 1\n",
    "            last_time = t[last]\n",
    "\n",
    "        # If dispersion of window points <= threshold  \n",
    "        if len(x_fixations) > 0 and get_dispersion(x_fixations, y_fixations) <= max_disp:\n",
    "\n",
    "            # Add additional points to the window until dispersion > threshold  \n",
    "            while (dispersion <= max_disp and last + 1 < len(x)):\n",
    "                x_fixations.append(x[last])\n",
    "                y_fixations.append(y[last])\n",
    "\n",
    "                dispersion = get_dispersion(x_fixations, y_fixations)\n",
    "\n",
    "                last = last + 1\n",
    "                last_time = t[last]\n",
    "\n",
    "            # add window to the fixations :D\n",
    "            window.append(last_time)\n",
    "            fixations.append(window)\n",
    "            \n",
    "            # Centroid x- and y-coordinates\n",
    "            x_fixations = np.array(x_fixations).astype(float)\n",
    "            y_fixations = np.array(y_fixations).astype(float)\n",
    "            centroid_x.append(np.mean(x_fixations))\n",
    "            centroid_y.append(np.mean(y_fixations))\n",
    "            \n",
    "            # Fixation durations\n",
    "            duration = (window[1] - window[0]) / 1000\n",
    "            fixation_durations.append(duration)\n",
    "            \n",
    "            # Remove window points from points  \n",
    "            i = last           \n",
    "        else:\n",
    "            #print(\"dispersion liikaa lol\", last, i)\n",
    "            # Remove first point from points \n",
    "            i = i + 1\n",
    "\n",
    "    # return fixation points\n",
    "    return fixations, fixation_durations, zip(centroid_x, centroid_y)\n"
   ]
  },
  {
   "cell_type": "markdown",
   "metadata": {},
   "source": [
    "## 3. Data-analysis"
   ]
  },
  {
   "cell_type": "code",
   "execution_count": 26,
   "metadata": {},
   "outputs": [],
   "source": [
    "def mfd(fixation_durations):\n",
    "    return np.mean(fixation_durations)\n",
    "\n",
    "\n",
    "def get_saccade_amplitude(fix1, fix2):\n",
    "    \"\"\"\n",
    "    Yksittäisen saccaden amplitudi\n",
    "    TODO lasketaanko ensimmäisen fiksaation viimeisestä pisteestä seuraavan ensimmäiseen\n",
    "    vai vertaillaanko kahden peräkkäisen fiksaation centroideja?    \n",
    "    \n",
    "    TODO mitähän tähän oikeen keksii, en oikein keksi miten laskis, oisko velocity helpompi?\n",
    "    \"\"\"\n",
    "    dist_from_screen = 450\n",
    "    screen_width = 195\n",
    "    screen_height = 113\n",
    "\n",
    "    # kahden pisteen välinen etäisyys\n",
    "    dist = np.linalg.norm(np.array([fix1, fix2]))\n",
    "    return math.degrees(math.atan(dist / dist_from_screen))\n",
    "\n",
    "\n",
    "def msa(fixations):\n",
    "    return np.mean([get_saccade_amplitude(fixations[i - 1], fixations[i]) for i in range(1, len(fixations))])\n",
    "\n",
    "\n",
    "def get_statistics(list):\n",
    "    # returns mean and standard deviation\n",
    "    return np.mean(list), np.std(list)\n"
   ]
  },
  {
   "cell_type": "code",
   "execution_count": 27,
   "metadata": {},
   "outputs": [],
   "source": [
    "@dataclass\n",
    "class Result:\n",
    "    \"\"\"Luokka lasketuille tuloksille, josta on helppo muodostaa rivi csv-tiedostoon\"\"\"\n",
    "\n",
    "    sid: str\n",
    "    mfd_true: float\n",
    "    mfd_sd_true: float\n",
    "    mfd_false: float\n",
    "    mfd_sd_false: float\n",
    "    msa_true: float\n",
    "    msa_sd_true: float\n",
    "    msa_false: float\n",
    "    msa_sd_false: float\n",
    "    mfd_overall: float\n",
    "    mfd_overall_sd: float\n",
    "    msa_overall: float\n",
    "    msa_overall_sd: float\n",
    "\n",
    "    def to_csv_row(self):\n",
    "        return [\n",
    "            self.sid,\n",
    "            self.mfd_true,\n",
    "            self.mfd_sd_true,\n",
    "            self.mfd_false,\n",
    "            self.mfd_sd_false,\n",
    "            self.msa_true,\n",
    "            self.msa_sd_true,\n",
    "            self.msa_false,\n",
    "            self.msa_sd_false,\n",
    "            self.mfd_overall,\n",
    "            self.mfd_overall_sd,\n",
    "            self.msa_overall,\n",
    "            self.msa_overall_sd\n",
    "        ]\n"
   ]
  },
  {
   "cell_type": "code",
   "execution_count": 28,
   "metadata": {},
   "outputs": [],
   "source": [
    "sid_MFD_MSA = {}\n",
    "I_KNOWN = 0\n",
    "I_MFD = 1\n",
    "I_MSA = 2\n",
    "\n",
    "sampfreq = 1000\n",
    "sampling_period = int(1 / sampfreq * 10**6)\n",
    "\n",
    "# iterate samples per subject\n",
    "for subject, sample_list in sample_dict.items():\n",
    "    for sample in sample_list:\n",
    "\n",
    "        # Artificial timeline in microseconds\n",
    "        t = np.arange(0, len(sample.xi) * sampling_period, sampling_period)\n",
    "\n",
    "        fixations, fixation_durations, centroids = idt(\n",
    "            sample.xi, sample.yi, t, 50, 100000)\n",
    "\n",
    "        MFD = mfd(fixation_durations)\n",
    "        MSA = msa(list(centroids))\n",
    "\n",
    "        # Jotain luettavaa ettei kyllästy\n",
    "        #print(f'Subject {subject} MFD for this sample: {MFD:.1f}')\n",
    "        sid_MFD_MSA.setdefault(subject, []).append((sample.known, MFD, MSA))\n"
   ]
  },
  {
   "cell_type": "code",
   "execution_count": 29,
   "metadata": {},
   "outputs": [],
   "source": [
    "results = []\n",
    "\n",
    "for sid, samples in sid_MFD_MSA.items():\n",
    "    # samples\n",
    "    samples_known_true = [i for i in samples if i[I_KNOWN] == 'true']\n",
    "    samples_known_false = [i for i in samples if i[I_KNOWN] == 'false']\n",
    "\n",
    "    # mean fixation detection\n",
    "    mfd_true, mfd_sd_true = get_statistics([i[I_MFD] for i in samples_known_true])\n",
    "    mfd_false, mfd_sd_false = get_statistics([i[I_MFD] for i in samples_known_false])\n",
    "    mfd_overall, mfd_sd_overall = get_statistics([i[I_MFD] for i in samples])\n",
    "    \n",
    "    # mean saccade amplitude\n",
    "    msa_true, msa_sd_true = get_statistics([i[I_MSA] for i in samples_known_true])\n",
    "    msa_false, msa_sd_false = get_statistics([i[I_MSA] for i in samples_known_false])\n",
    "    msa_overall, msa_sd_overall = get_statistics([i[I_MSA] for i in samples])\n",
    "    \n",
    "    # new object/row to the csv from the calculations\n",
    "    result = Result(\n",
    "        sid, \n",
    "        mfd_true, mfd_sd_true, \n",
    "        mfd_false, mfd_sd_false, \n",
    "        msa_true, msa_sd_true, \n",
    "        msa_false, msa_sd_false, \n",
    "        mfd_overall, mfd_sd_overall, \n",
    "        msa_overall, msa_sd_overall\n",
    "    )\n",
    "    \n",
    "    results.append(result)\n",
    "    \n",
    "\n",
    "results = sorted(results, key=lambda x: int(x.sid[1:]))    "
   ]
  },
  {
   "cell_type": "code",
   "execution_count": 30,
   "metadata": {},
   "outputs": [
    {
     "data": {
      "text/plain": [
       "[Result(sid='s3', mfd_true=219.56494708994708, mfd_sd_true=67.02805229438385, mfd_false=204.29916666666668, mfd_sd_false=41.72956077364236, msa_true=56.22367573355845, msa_sd_true=6.641952930867889, msa_false=55.31853314656871, msa_sd_false=5.974470475510169, mfd_overall=209.0368226600985, mfd_overall_sd=51.43071781665838, msa_overall=55.59943946666896, msa_overall_sd=6.203477899236573),\n",
       " Result(sid='s5', mfd_true=178.23090277777774, mfd_sd_true=27.468520832816292, mfd_false=205.85205627705633, mfd_sd_false=39.37667591755229, msa_true=52.67743331440874, msa_sd_true=5.919970412934832, msa_false=51.06976429128652, msa_sd_false=9.400874778985118, mfd_overall=196.10341386554623, mfd_overall_sd=37.99754072767264, msa_overall=51.6371768876826, msa_overall_sd=8.37521391843391),\n",
       " Result(sid='s11', mfd_true=199.64682539682542, mfd_sd_true=40.4968071132696, mfd_false=177.0125, mfd_sd_false=29.206599746461418, msa_true=53.16987402798592, msa_sd_true=6.497759668090003, msa_false=43.613132470888885, msa_sd_false=4.980032638489508, mfd_overall=190.59309523809526, mfd_overall_sd=38.054698317057614, msa_overall=49.34717740514711, msa_overall_sd=7.561238831045973),\n",
       " Result(sid='s17', mfd_true=219.28333333333336, mfd_sd_true=28.72605959751528, mfd_false=233.660989010989, mfd_sd_false=45.63342078529719, msa_true=50.774299427471526, msa_sd_true=4.827509981343253, msa_false=51.925240369472675, msa_sd_false=3.54717953233678, mfd_overall=227.40983436853003, mfd_overall_sd=39.83202968382716, msa_overall=51.424831264254784, msa_overall_sd=4.191648205970465),\n",
       " Result(sid='s19', mfd_true=193.6, mfd_sd_true=0.0, mfd_false=153.64200244200245, mfd_sd_false=19.206204119729545, msa_true=60.954964982821814, msa_sd_true=0.0, msa_false=42.7824147862859, msa_sd_false=6.963726624836776, mfd_overall=156.49614512471658, mfd_overall_sd=21.176154614249125, msa_overall=44.080454086038465, msa_overall_sd=8.181286341771408),\n",
       " Result(sid='s25', mfd_true=168.06666666666666, mfd_sd_true=22.023106552487594, mfd_false=177.08316326530613, mfd_sd_false=32.39118955154141, msa_true=54.81667240581547, msa_sd_true=2.5709550919052893, msa_false=57.237988538158966, msa_sd_false=3.7192101048639206, mfd_overall=175.4920168067227, mfd_overall_sd=31.007164112797838, msa_overall=56.81069745598069, msa_overall_sd=3.6619607298491466),\n",
       " Result(sid='s31', mfd_true=211.30138888888888, mfd_sd_true=35.93574789072922, mfd_false=190.609873015873, mfd_sd_false=28.797433618901206, msa_true=37.24446405141617, msa_sd_true=4.982789410843028, msa_false=41.91844889293946, msa_sd_false=5.15455142338609, mfd_overall=195.6259980759981, mfd_overall_sd=31.93654179973685, msa_overall=40.785361658630784, msa_overall_sd=5.491760621377242),\n",
       " Result(sid='s33', mfd_true=194.5354256854257, mfd_sd_true=42.874953739913295, mfd_false=235.34083998335177, mfd_sd_false=40.69142226189134, msa_true=45.95976887817373, msa_sd_true=6.797660756408183, msa_false=50.32674550423686, msa_sd_false=7.375082641182013, mfd_overall=224.21209062937191, mfd_overall_sd=45.120067662162036, msa_overall=49.13575187894692, msa_overall_sd=7.479472864138346)]"
      ]
     },
     "execution_count": 30,
     "metadata": {},
     "output_type": "execute_result"
    }
   ],
   "source": [
    "results"
   ]
  },
  {
   "cell_type": "markdown",
   "metadata": {},
   "source": [
    "## 4. CSV-file from the analysed data"
   ]
  },
  {
   "cell_type": "code",
   "execution_count": 31,
   "metadata": {},
   "outputs": [],
   "source": [
    "header = [\n",
    "    'subject_id',\n",
    "    'MFD_true',\n",
    "    'MFD_SD_true',\n",
    "    'MFD_false',\n",
    "    'MFD_SD_false',\n",
    "    'MSA_true',\n",
    "    'MSA_SD_true',\n",
    "    'MSA_false',\n",
    "    'MSA_SD_false',\n",
    "    'MFD_overall',\n",
    "    'MFD_overall_SD',\n",
    "    'MSA_overall',\n",
    "    'MSA_overall_SD',\n",
    "]\n"
   ]
  },
  {
   "cell_type": "code",
   "execution_count": 32,
   "metadata": {},
   "outputs": [],
   "source": [
    "# kirjoitellaan csv-tiedosto\n",
    "with open(\"./results_group_3.csv\", \"w\", encoding='UTF8', newline='') as f:\n",
    "    writer = csv.writer(f)\n",
    "    writer.writerow([i.lower().strip() for i in header])\n",
    "    writer.writerows([r.to_csv_row() for r in results])\n"
   ]
  },
  {
   "cell_type": "code",
   "execution_count": 33,
   "metadata": {},
   "outputs": [],
   "source": [
    "# Get the data from results:DD\n",
    "# Keksikää tälle joku fiksumpi toteutus, väänsin vaa väkisin ku ei jaksanu miettii:D\n",
    "# tässä vois ottaa pandasilla dataframen tuosta csv-tiedostosta mut tää on varmaan ihan pätevä tähän :D\n",
    "labels = [result.sid for result in results]\n",
    "mfd_true = [result.mfd_true for result in results]\n",
    "mfd_sd_true = [result.mfd_sd_true for result in results]\n",
    "mfd_false = [result.mfd_false for result in results]\n",
    "mfd_sd_false = [result.mfd_sd_false for result in results]\n",
    "msa_true = [result.msa_true for result in results]\n",
    "msa_sd_true = [result.msa_sd_true for result in results]\n",
    "msa_false = [result.msa_false for result in results]\n",
    "msa_sd_false = [result.msa_sd_false for result in results]\n",
    "mfd_overall = [result.mfd_overall for result in results]\n",
    "mfd_overall_sd = [result.mfd_overall_sd for result in results]\n",
    "msa_overall = [result.msa_overall for result in results]\n",
    "msa_overall_sd = [result.msa_overall_sd for result in results]"
   ]
  },
  {
   "cell_type": "markdown",
   "metadata": {},
   "source": [
    "## 5. Visualization and plots\n",
    "\n",
    "Use charts so that you can indicate standard deviation or standard error of the mean (SEM) as +-error bars. \n",
    "\n",
    "**Important**: compare the known=true and known=false conditions (for aggregated data of all your subjects), and discuss eventual differences briefly. \n",
    "\n",
    "You may add other visualizations, for example a scatter plot of MSA x MFD. **The goal is to show insights into the data.**"
   ]
  },
  {
   "cell_type": "code",
   "execution_count": 34,
   "metadata": {},
   "outputs": [
    {
     "name": "stderr",
     "output_type": "stream",
     "text": [
      "<ipython-input-34-c4f769d9e022>:31: MatplotlibDeprecationWarning: Passing the minor parameter of set_ticks() positionally is deprecated since Matplotlib 3.2; the parameter will become keyword-only two minor releases later.\n",
      "  ax[0].set_xticks(x_label_loc, labels)\n",
      "<ipython-input-34-c4f769d9e022>:38: MatplotlibDeprecationWarning: Passing the minor parameter of set_ticks() positionally is deprecated since Matplotlib 3.2; the parameter will become keyword-only two minor releases later.\n",
      "  ax[1].set_xticks(x_label_loc, labels)\n"
     ]
    },
    {
     "data": {
      "image/png": "[encoded data removed]",
      "text/plain": [
       "<Figure size 1080x360 with 2 Axes>"
      ]
     },
     "metadata": {
      "needs_background": "light"
     },
     "output_type": "display_data"
    }
   ],
   "source": [
    "# Bar plots for MDF and MSA\n",
    "\n",
    "x_label_loc = np.arange(len(labels))\n",
    "bar_width = 0.25\n",
    "\n",
    "fig, ax = plt.subplots(1, 2, figsize=(15,5))\n",
    "\n",
    "# Bars for MFD plot\n",
    "rects1 = ax[0].bar(x_label_loc - bar_width, mfd_true, bar_width,\n",
    "                yerr=mfd_sd_true, capsize=3, label='mfd_true', color='green')\n",
    "\n",
    "rects2 = ax[0].bar(x_label_loc, mfd_false, bar_width,\n",
    "                yerr=mfd_sd_false, capsize=3, label='mfd_false', color='red')\n",
    "\n",
    "rects3 = ax[0].bar(x_label_loc + bar_width, mfd_overall, bar_width,\n",
    "                yerr=mfd_overall_sd, capsize=3, label='mfd_overall', color='#00A3FF')\n",
    "\n",
    "# Bars for MSA plot\n",
    "rects4 = ax[1].bar(x_label_loc - bar_width, msa_true, bar_width,\n",
    "                yerr=msa_sd_true, capsize=3, label='msa_true', color='green')\n",
    "\n",
    "rects5 = ax[1].bar(x_label_loc, msa_false, bar_width,\n",
    "                yerr=msa_sd_false, capsize=3, label='msa_false', color='red')\n",
    "\n",
    "rects6 = ax[1].bar(x_label_loc + bar_width, msa_overall, bar_width,\n",
    "                yerr=msa_overall_sd, capsize=3, label='msa_overall', color='#00A3FF')\n",
    "\n",
    "# Labels & stuff\n",
    "ax[0].set_ylabel('Time (ms)', fontsize=16)\n",
    "ax[0].set_title('MFD for known=true, know=false and overall', fontsize=20, pad=10)\n",
    "ax[0].set_xticks(x_label_loc, labels)\n",
    "ax[0].legend(loc='lower right', framealpha=1, fontsize=14)\n",
    "ax[0].set_facecolor('lightgrey')\n",
    "ax[0].tick_params(axis='both', which='major', labelsize=12)\n",
    "\n",
    "ax[1].set_ylabel('Yksikkö?', fontsize=16)\n",
    "ax[1].set_title('MSA for known=true, know=false and overall', fontsize=20, pad=10)\n",
    "ax[1].set_xticks(x_label_loc, labels)\n",
    "ax[1].legend(loc='lower right', framealpha=1, fontsize=14)\n",
    "ax[1].set_facecolor('lightgrey')\n",
    "ax[1].tick_params(axis='both', which='major', labelsize=12)\n",
    "\n",
    "fig.tight_layout()\n",
    "\n",
    "plt.show()"
   ]
  },
  {
   "cell_type": "code",
   "execution_count": 35,
   "metadata": {},
   "outputs": [
    {
     "data": {
      "text/plain": [
       "<matplotlib.collections.PathCollection at 0x1c7fefcca00>"
      ]
     },
     "execution_count": 35,
     "metadata": {},
     "output_type": "execute_result"
    },
    {
     "data": {
      "image/png": "[encoded data removed]",
      "text/plain": [
       "<Figure size 1080x360 with 2 Axes>"
      ]
     },
     "metadata": {
      "needs_background": "light"
     },
     "output_type": "display_data"
    }
   ],
   "source": [
    "# Nää ei kyl kerro yhtää mitään, pitää katella jotai muuta\n",
    "# jep\n",
    "fig, ax = plt.subplots(1, 2, figsize=(15,5))\n",
    "\n",
    "ax[0].scatter(msa_overall, mfd_overall)\n",
    "ax[1].scatter(mfd_overall, msa_overall)"
   ]
  }
 ],
 "metadata": {
  "kernelspec": {
   "display_name": "Python 3",
   "language": "python",
   "name": "python3"
  },
  "language_info": {
   "codemirror_mode": {
    "name": "ipython",
    "version": 3
   },
   "file_extension": ".py",
   "mimetype": "text/x-python",
   "name": "python",
   "nbconvert_exporter": "python",
   "pygments_lexer": "ipython3",
   "version": "3.8.6"
  },
  "vscode": {
   "interpreter": {
    "hash": "b081a66ee97bd2b6a16f43955f1d810b7ea816d6eaeb65e157ef9e038445f0c6"
   }
  }
 },
 "nbformat": 4,
 "nbformat_minor": 4
}
