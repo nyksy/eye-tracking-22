{
 "cells": [
  {
   "cell_type": "markdown",
   "metadata": {},
   "source": [
    "# Data-analysis, group 3\n",
    "Our subjects: 3,5,11,17,19,25,31,33"
   ]
  },
  {
   "cell_type": "code",
   "execution_count": 1,
   "metadata": {},
   "outputs": [
    {
     "name": "stderr",
     "output_type": "stream",
     "text": [
      "c:\\Python\\Python38\\lib\\site-packages\\pandas\\core\\computation\\expressions.py:20: UserWarning: Pandas requires version '2.7.3' or newer of 'numexpr' (version '2.7.1' currently installed).\n",
      "  from pandas.core.computation.check import NUMEXPR_INSTALLED\n"
     ]
    }
   ],
   "source": [
    "# imports and stuff\n",
    "from dataclasses import dataclass\n",
    "from typing import List, Optional\n",
    "import matplotlib.pyplot as plt\n",
    "import statistics as stat\n",
    "import pandas as pd\n",
    "import numpy as np\n",
    "import csv\n"
   ]
  },
  {
   "cell_type": "markdown",
   "metadata": {},
   "source": [
    "## 1. Reading the data"
   ]
  },
  {
   "cell_type": "code",
   "execution_count": 2,
   "metadata": {},
   "outputs": [],
   "source": [
    "# constants and helper variables\n",
    "subjects = [3, 5, 11, 17, 19, 25, 31, 33]\n",
    "subjects_formatted = ['s' + str(s) for s in subjects]\n"
   ]
  },
  {
   "cell_type": "code",
   "execution_count": 3,
   "metadata": {},
   "outputs": [],
   "source": [
    "@dataclass\n",
    "class Sample:\n",
    "    \"\"\"Class for a sample from the data\"\"\"\n",
    "    sid: str\n",
    "    known: bool\n",
    "    xi: Optional[List[float]] = None\n",
    "    yi: Optional[List[float]] = None\n"
   ]
  },
  {
   "cell_type": "code",
   "execution_count": 4,
   "metadata": {},
   "outputs": [],
   "source": [
    "def parse_line(line) -> List:\n",
    "    return line.split(',')\n",
    "\n",
    "\n",
    "def parse_classes(lines) -> List[Sample]:\n",
    "    parsed_lines = [parse_line(line) for line in lines]\n",
    "    return [Sample(line[0], line[1], line[2::2], line[3::2]) for line in parsed_lines]\n"
   ]
  },
  {
   "cell_type": "code",
   "execution_count": 5,
   "metadata": {},
   "outputs": [
    {
     "name": "stdout",
     "output_type": "stream",
     "text": [
      "s5 34\n",
      "s17 23\n",
      "s19 14\n",
      "s31 33\n",
      "s3 29\n",
      "s11 10\n",
      "s25 17\n",
      "s33 33\n"
     ]
    }
   ],
   "source": [
    "# reading the lines\n",
    "with open('data/train.csv') as f:\n",
    "    lines = f.readlines()\n",
    "\n",
    "    our_lines = [line for line in lines\n",
    "                 if line.split(',')[0]\n",
    "                 in subjects_formatted]\n",
    "\n",
    "    samples = parse_classes(our_lines)\n",
    "\n",
    "    sample_dict = {}\n",
    "\n",
    "    for sample in samples:\n",
    "        sample_dict.setdefault(sample.sid, []).append(sample)\n",
    "        \n",
    "    for key, val in sample_dict.items():\n",
    "        print(key, len(val))\n"
   ]
  },
  {
   "cell_type": "markdown",
   "metadata": {},
   "source": [
    "## 2. Fixation detection algorithm"
   ]
  },
  {
   "cell_type": "code",
   "execution_count": 6,
   "metadata": {},
   "outputs": [],
   "source": [
    "def get_dispersion(x, y):\n",
    "    \"\"\"Calculate dispersion, idea from: https://github.com/ecekt/eyegaze\n",
    "\n",
    "    Args:\n",
    "        x (numpy array): x coordinates\n",
    "        y (numpy array): y coordinates\n",
    "\n",
    "    Returns:\n",
    "        float: amount of dispersion\n",
    "    \"\"\"\n",
    "    x = np.array(x)\n",
    "    y = np.array(y)\n",
    "\n",
    "    return ((np.max(x.astype(float)) - np.min(x.astype(float)))\n",
    "            + (np.max(y.astype(float)) - np.min(y.astype(float))))/2\n"
   ]
  },
  {
   "cell_type": "code",
   "execution_count": 7,
   "metadata": {},
   "outputs": [],
   "source": [
    "#uneye-palikka\n",
    "'''\n",
    "model = uneye.DNN(max_iter=500, sampfreq=1000,\n",
    "             lr=0.001, weights_name='weights',\n",
    "            min_sacc_dist=1,min_sacc_dur=6,augmentation=True,\n",
    "             ks=5,mp=5,inf_correction=1.5,val_samples=30)\n",
    "'''\n",
    "def uneye(x, y, labels):\n",
    "    model = uneye.DNN(sampfreq=1000)\n",
    "    model.train(x,y,labels)\n",
    "    model.test(x,y,labels)\n",
    "    model.predict(x, y)\n",
    "    model.crossvalidate"
   ]
  },
  {
   "cell_type": "code",
   "execution_count": 8,
   "metadata": {},
   "outputs": [],
   "source": [
    "def idt(x, y, t, max_disp=10, min_dur=50000):\n",
    "\n",
    "    # helper variables\n",
    "    fixations = []\n",
    "    fixation_durations = []\n",
    "    centroid_x = []\n",
    "    centroid_y = []\n",
    "    i = 0\n",
    "    last = 0\n",
    "\n",
    "    # loop points\n",
    "    while(i < len(x)):\n",
    "        \n",
    "        # reset variables\n",
    "        dispersion = 0.0\n",
    "        window = []\n",
    "\n",
    "        # add first timepoint\n",
    "        window.append(t[last])\n",
    "\n",
    "        last_time = t[last]\n",
    "        start_time = last_time\n",
    "        # Tässä oli ennen last + 1, mutta heitti index out of boundsia joillakin sampleilla\n",
    "        last = last\n",
    "\n",
    "        y_fixations = []\n",
    "        x_fixations = []\n",
    "\n",
    "        # Initialize window over first points to cover the duration threshold\n",
    "        while((start_time + min_dur) >= last_time and last + 1 < len(x)):\n",
    "            x_fixations.append(x[last])\n",
    "            y_fixations.append(y[last])\n",
    "\n",
    "            last = last + 1\n",
    "            last_time = t[last]\n",
    "\n",
    "        # If dispersion of window points <= threshold  \n",
    "        if len(x_fixations) > 0 and get_dispersion(x_fixations, y_fixations) <= max_disp:\n",
    "\n",
    "            # Add additional points to the window until dispersion > threshold  \n",
    "            while (dispersion <= max_disp and last + 1 < len(x)):\n",
    "                x_fixations.append(x[last])\n",
    "                y_fixations.append(y[last])\n",
    "\n",
    "                dispersion = get_dispersion(x_fixations, y_fixations)\n",
    "\n",
    "                last = last + 1\n",
    "                last_time = t[last]\n",
    "\n",
    "            # add window to the fixations :D\n",
    "            window.append(last_time)\n",
    "            fixations.append(window)\n",
    "            \n",
    "            # Centroid x- and y-coordinates\n",
    "            x_fixations = np.array(x_fixations).astype(float)\n",
    "            y_fixations = np.array(y_fixations).astype(float)\n",
    "            centroid_x.append(np.mean(x_fixations))\n",
    "            centroid_y.append(np.mean(y_fixations))\n",
    "            \n",
    "            # Fixation durations\n",
    "            duration = (window[1] - window[0]) / 1000\n",
    "            fixation_durations.append(duration)\n",
    "            \n",
    "            # Remove window points from points  \n",
    "            i = last           \n",
    "        else:\n",
    "            #print(\"dispersion liikaa lol\", last, i)\n",
    "            # Remove first point from points \n",
    "            i = i + 1\n",
    "\n",
    "    # return fixation points\n",
    "    return fixations, fixation_durations, zip(centroid_x, centroid_y)\n"
   ]
  },
  {
   "cell_type": "code",
   "execution_count": 9,
   "metadata": {},
   "outputs": [],
   "source": [
    "# Reading Jenga data\n",
    "df = pd.read_csv(\n",
    "    'https://raw.githubusercontent.com/jpkos/ET_UEF/main/data/jenga-clip-data.csv')\n",
    "df_et = df[df['Sensor'] == 'Eye Tracker'].reset_index(\n",
    "    drop=True)  # Leave only Eye tracker data\n",
    "\n",
    "df_et_unique = df_et.drop_duplicates(subset='Eye movement type index')\n"
   ]
  },
  {
   "cell_type": "code",
   "execution_count": 10,
   "metadata": {},
   "outputs": [
    {
     "name": "stdout",
     "output_type": "stream",
     "text": [
      "Number of centroids:  28\n",
      "Number of fixation durations:  28\n",
      "Number of fixations in Tobii I-VT:  28\n"
     ]
    },
    {
     "data": {
      "text/plain": [
       "(0.0, 1200.0)"
      ]
     },
     "execution_count": 10,
     "metadata": {},
     "output_type": "execute_result"
    },
    {
     "data": {
      "image/png": "[encoded data removed]",
      "text/plain": [
       "<Figure size 1440x1080 with 1 Axes>"
      ]
     },
     "metadata": {
      "needs_background": "light"
     },
     "output_type": "display_data"
    }
   ],
   "source": [
    "# testing testing\n",
    "\n",
    "# Running IDT\n",
    "fixations, fixation_durations, centroids = idt(list(df_et['Gaze point X']), list(df_et['Gaze point Y']),\n",
    "                                                            list(df_et['Computer timestamp']), 50, 100000)\n",
    "\n",
    "centroid_x, centroid_y = zip(*centroids)\n",
    "print('Number of centroids: ', len(centroid_x))\n",
    "print('Number of fixation durations: ', len(fixation_durations))\n",
    "print('Number of fixations in Tobii I-VT: ', len(df_et_unique))\n",
    "\n",
    "fixation_timepoints = []\n",
    "\n",
    "for fixation_period in fixations:\n",
    "    asd = df_et[df_et['Computer timestamp'].between(fixation_period[0], fixation_period[1])]\n",
    "    for val in asd['Computer timestamp'].values:\n",
    "        fixation_timepoints.append(val)\n",
    "        \n",
    "fixation_timepoints = np.array(fixation_timepoints).ravel()\n",
    "\n",
    "# Plotting stuff\n",
    "mask = (df_et['Computer timestamp'].isin(fixation_timepoints))\n",
    "our_colors = ['green' if x else 'red' for x in mask]\n",
    "\n",
    "\n",
    "fig = plt.figure()\n",
    "fig.set_size_inches(20,15)\n",
    "ax = plt.gca()\n",
    "ax.scatter(df_et['Gaze point X'], df_et['Gaze point Y'], color=our_colors, s=7)\n",
    "ax.scatter(centroid_x, centroid_y, color='darkred', s=50)\n",
    "ax.set_title('I-DT algorithm fixation centroids', fontdict={'fontsize':20})\n",
    "plt.xlim([700, 1300])\n",
    "plt.ylim([0, 1200])\n"
   ]
  },
  {
   "cell_type": "markdown",
   "metadata": {},
   "source": [
    "## 3. Data-analysis"
   ]
  },
  {
   "cell_type": "code",
   "execution_count": 15,
   "metadata": {},
   "outputs": [],
   "source": [
    "def mfd(fixation_durations):\n",
    "    return np.mean(fixation_durations)\n",
    "\n",
    "\n",
    "def get_saccade_amplitude(fix1, fix2):\n",
    "    \"\"\"\n",
    "    Yksittäisen saccaden amplitudi\n",
    "    TODO lasketaanko ensimmäisen fiksaation viimeisestä pisteestä seuraavan ensimmäiseen\n",
    "    vai vertaillaanko kahden peräkkäisen fiksaation centroideja?\n",
    "    \"\"\"\n",
    "    \n",
    "    # kahden pisteen välinen etäisyys \n",
    "    dist = np.linalg.norm(fix1, fix2)\n",
    "\n",
    "    # TODO kulmayksikköjen laskeminen\n",
    "    return dist  # ja jotain ei jaksa nyt miettii :DDDDD\n",
    "\n",
    "\n",
    "def msa(fixations):\n",
    "    # TODO saadaan yksittäiset saccade amplitudit kutsumalla ylempää\n",
    "    pass\n"
   ]
  },
  {
   "cell_type": "code",
   "execution_count": 12,
   "metadata": {},
   "outputs": [
    {
     "name": "stdout",
     "output_type": "stream",
     "text": [
      "s5 34 [('true', 172.0), ('true', 171.0), ('true', 144.66666666666666)]\n",
      "s17 23 [('false', 162.2), ('false', 247.6), ('true', 209.2)]\n",
      "s19 14 [('false', 150.83333333333334), ('false', 135.25), ('false', 191.75)]\n",
      "s31 33 [('true', 275.0), ('false', 118.42857142857143), ('false', 191.375)]\n",
      "s3 29 [('true', 223.75), ('false', 220.33333333333334), ('false', 202.25)]\n",
      "s11 10 [('true', 176.5), ('true', 267.7142857142857), ('false', 146.5)]\n",
      "s25 17 [('false', 181.0), ('false', 183.0), ('false', 171.25)]\n",
      "s33 33 [('false', 204.0), ('false', 209.5), ('false', 299.6666666666667)]\n"
     ]
    }
   ],
   "source": [
    "sidMFD = {}\n",
    "\n",
    "for subject, sample_list in sample_dict.items():\n",
    "    \n",
    "    for sample in sample_list:\n",
    "        \n",
    "        # Artificial timeline in microseconds\n",
    "        sampfreq = 1000\n",
    "        sampling_period = int(1 / sampfreq * 10**6)\n",
    "        t = np.arange(0, len(sample.xi) * sampling_period, sampling_period)\n",
    "        \n",
    "        fixations, fixation_durations, centroids = idt(sample.xi, sample.yi, t, 50, 100000)\n",
    "        \n",
    "        MFD = mfd(fixation_durations)\n",
    "        \n",
    "        # TODO\n",
    "        MSA = msa(fixations)\n",
    "        \n",
    "        # Jotain luettavaa ettei kyllästy\n",
    "        # print(f'Subject {subject} MFD for this sample: {MFD:.1f}')\n",
    "        \n",
    "        sidMFD.setdefault(subject, []).append((sample.known, MFD))\n",
    "        \n",
    "for key, val in sidMFD.items():\n",
    "    print(key, len(val), val[0:3])"
   ]
  },
  {
   "cell_type": "markdown",
   "metadata": {},
   "source": [
    "## 4. CSV-file from the analysed data"
   ]
  },
  {
   "cell_type": "code",
   "execution_count": 13,
   "metadata": {},
   "outputs": [],
   "source": [
    "header = [\n",
    "    'subject_id',\n",
    "    'MFD_true',\n",
    "    'MFD_SD_true',\n",
    "    'MFD_false',\n",
    "    'MFD_SD_false',\n",
    "    'MSA_true',\n",
    "    'MSA_SD_true',\n",
    "    'MSA_false',\n",
    "    'MSA_SD_false',\n",
    "    'MFD_overall',\n",
    "    'MFD_overall_SD',\n",
    "    'MSA_overall',\n",
    "    'MSA_overall_SD',\n",
    "]\n"
   ]
  },
  {
   "cell_type": "code",
   "execution_count": 14,
   "metadata": {},
   "outputs": [],
   "source": [
    "# kirjoitellaan csv-tiedosto\n",
    "with open(\"./results_group_3.csv\", \"w\", encoding='UTF8', newline='') as f:\n",
    "    writer = csv.writer(f)\n",
    "    writer.writerow([i.lower().strip() for i in header])\n",
    "\n",
    "    # TODO laskettujen arvojen kirjoittelut per subject eli rivejä yhtä monta kuin subjekteja?\n"
   ]
  },
  {
   "cell_type": "markdown",
   "metadata": {},
   "source": [
    "## 5. Visualization and plots"
   ]
  },
  {
   "cell_type": "code",
   "execution_count": null,
   "metadata": {},
   "outputs": [],
   "source": []
  }
 ],
 "metadata": {
  "kernelspec": {
   "display_name": "Python 3.8.6 64-bit",
   "language": "python",
   "name": "python3"
  },
  "language_info": {
   "codemirror_mode": {
    "name": "ipython",
    "version": 3
   },
   "file_extension": ".py",
   "mimetype": "text/x-python",
   "name": "python",
   "nbconvert_exporter": "python",
   "pygments_lexer": "ipython3",
   "version": "3.8.6"
  },
  "vscode": {
   "interpreter": {
    "hash": "b081a66ee97bd2b6a16f43955f1d810b7ea816d6eaeb65e157ef9e038445f0c6"
   }
  }
 },
 "nbformat": 4,
 "nbformat_minor": 4
}
