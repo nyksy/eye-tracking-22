{
 "cells": [
  {
   "cell_type": "markdown",
   "metadata": {},
   "source": [
    "# Data-analysis, group 3\n",
    "Our subjects: 3,5,11,17,19,25,31,33"
   ]
  },
  {
   "cell_type": "code",
   "execution_count": 26,
   "metadata": {},
   "outputs": [],
   "source": [
    "# imports and stuff\n",
    "from dataclasses import dataclass\n",
    "from typing import List, Optional\n",
    "import matplotlib.pyplot as plt\n",
    "import pandas as pd\n",
    "import numpy as np"
   ]
  },
  {
   "cell_type": "markdown",
   "metadata": {},
   "source": [
    "## Reading the data"
   ]
  },
  {
   "cell_type": "code",
   "execution_count": 27,
   "metadata": {},
   "outputs": [],
   "source": [
    "# constants and helper variables\n",
    "subjects = [3, 5, 11, 17, 19, 25, 31, 33]\n",
    "subjects_formatted = ['s' + str(s) for s in subjects]"
   ]
  },
  {
   "cell_type": "code",
   "execution_count": 28,
   "metadata": {},
   "outputs": [],
   "source": [
    "@dataclass\n",
    "class Sample:\n",
    "    \"\"\"Class for a sample from the data\"\"\"\n",
    "    sid: str\n",
    "    known: bool\n",
    "    xi: Optional[List[float]] = None\n",
    "    yi: Optional[List[float]] = None\n"
   ]
  },
  {
   "cell_type": "code",
   "execution_count": 29,
   "metadata": {},
   "outputs": [],
   "source": [
    "def parse_line(line):\n",
    "    return line.split(',')\n",
    "\n",
    "\n",
    "def parse_classes(lines):\n",
    "    parsed_lines = [parse_line(line) for line in lines]\n",
    "    return [Sample(line[0], line[1], line[2::2], line[3::2]) for line in parsed_lines]\n"
   ]
  },
  {
   "cell_type": "code",
   "execution_count": 30,
   "metadata": {},
   "outputs": [],
   "source": [
    "# reading the lines\n",
    "with open('data/train.csv') as f:\n",
    "    lines = f.readlines()\n",
    "\n",
    "    our_lines = [line for line in lines\n",
    "                 if line.split(',')[0]\n",
    "                 in subjects_formatted]\n",
    "\n",
    "    samples = parse_classes(our_lines)\n"
   ]
  },
  {
   "cell_type": "markdown",
   "metadata": {},
   "source": [
    "## Fixation detection algorithm"
   ]
  },
  {
   "cell_type": "code",
   "execution_count": 31,
   "metadata": {},
   "outputs": [],
   "source": [
    "def get_dispersion(x, y):\n",
    "    \"\"\"Calculate dispersion somehow, idea from: https://github.com/ecekt/eyegaze\n",
    "\n",
    "    Args:\n",
    "        x (numpy array): x coordinates\n",
    "        y (numpy array): y coordinates\n",
    "\n",
    "    Returns:\n",
    "        float: amount of dispersion\n",
    "    \"\"\"\n",
    "    x = np.array(x)\n",
    "    y = np.array(y)\n",
    "\n",
    "    argxmin = np.min(x.astype(float))\n",
    "    argxmax = np.max(x.astype(float))\n",
    "\n",
    "    argymin = np.min(y.astype(float))\n",
    "    argymax = np.max(y.astype(float))\n",
    "\n",
    "    return ((argxmax - argxmin) + (argymax - argymin))/2"
   ]
  },
  {
   "cell_type": "code",
   "execution_count": 32,
   "metadata": {},
   "outputs": [],
   "source": [
    "def our_idt(x, y, t, max_disp=10, min_dur=50000):\n",
    "\n",
    "    # TODO we dont have time variable in our dataset?\n",
    "\n",
    "    # helper variables\n",
    "    fixations = []\n",
    "    i = 0\n",
    "    last = 0\n",
    "\n",
    "    # loop points\n",
    "    while(i < len(x)):\n",
    "\n",
    "        # reset variables\n",
    "        dispersion = 0.0\n",
    "        window = []\n",
    "\n",
    "        # add first timepoint\n",
    "        window.append(t[last])\n",
    "\n",
    "        last_time = t[last]\n",
    "        start_time = last_time\n",
    "        last = last + 1\n",
    "\n",
    "        y_fixations = []\n",
    "        x_fixations = []\n",
    "\n",
    "        # Initialize window over first points to cover the duration threshold\n",
    "        while((start_time + min_dur) >= last_time and last + 1 < len(x)):\n",
    "            x_fixations.append(x[last])\n",
    "            y_fixations.append(y[last])\n",
    "\n",
    "            last = last + 1\n",
    "            last_time = t[last]\n",
    "\n",
    "        # If dispersion of window points <= threshold  \n",
    "        if len(x_fixations) > 0 and get_dispersion(x_fixations, y_fixations) <= max_disp:\n",
    "\n",
    "            # Add additional points to the window until dispersion > threshold  \n",
    "            while (dispersion <= max_disp and last + 1 < len(x)):\n",
    "                x_fixations.append(x[last])\n",
    "                y_fixations.append(y[last])\n",
    "\n",
    "                dispersion = get_dispersion(x_fixations, y_fixations)\n",
    "\n",
    "                last = last + 1\n",
    "                last_time = t[last]\n",
    "\n",
    "            # add window to the fixations :D\n",
    "            window.append(last_time)\n",
    "            fixations.append(window)\n",
    "\n",
    "            # Remove window points from points  \n",
    "            i = last\n",
    "        else:\n",
    "            #print(\"dispersion liikaa lol\", last, i)\n",
    "            # Remove first point from points \n",
    "            i = i + 1\n",
    "\n",
    "    # return fixation points\n",
    "    return fixations\n"
   ]
  },
  {
   "cell_type": "markdown",
   "metadata": {},
   "source": [
    "## Visualization and plots"
   ]
  },
  {
   "cell_type": "code",
   "execution_count": null,
   "metadata": {},
   "outputs": [],
   "source": []
  }
 ],
 "metadata": {
  "kernelspec": {
   "display_name": "Python 3.8.5 ('base')",
   "language": "python",
   "name": "python3"
  },
  "language_info": {
   "codemirror_mode": {
    "name": "ipython",
    "version": 3
   },
   "file_extension": ".py",
   "mimetype": "text/x-python",
   "name": "python",
   "nbconvert_exporter": "python",
   "pygments_lexer": "ipython3",
   "version": "3.8.5"
  },
  "orig_nbformat": 4,
  "vscode": {
   "interpreter": {
    "hash": "be53f252bce363aa428a3f3b9f20f09b5e8063111c6a13ccee841ee021b7b5cd"
   }
  }
 },
 "nbformat": 4,
 "nbformat_minor": 2
}
