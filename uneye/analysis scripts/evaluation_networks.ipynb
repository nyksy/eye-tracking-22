{
 "cells": [
  {
   "cell_type": "markdown",
   "metadata": {},
   "source": [
    "## Evaluation of networks trained on different datasets"
   ]
  },
  {
   "cell_type": "code",
   "execution_count": 21,
   "metadata": {},
   "outputs": [],
   "source": [
    "import numpy as np\n",
    "import uneye\n",
    "from matplotlib.pyplot import *\n",
    "%matplotlib inline"
   ]
  },
  {
   "cell_type": "code",
   "execution_count": 25,
   "metadata": {},
   "outputs": [],
   "source": [
    "#cmap(np.linspace(0.2, 0.8, 100))\n",
    "import matplotlib.colors as colors\n",
    "\n",
    "def truncate_colormap(cmap, minval=0.0, maxval=1.0, n=100):\n",
    "    new_cmap = colors.LinearSegmentedColormap.from_list(\n",
    "        'trunc({n},{a:.2f},{b:.2f})'.format(n=cmap.name, a=minval, b=maxval),\n",
    "        cmap(np.linspace(minval, maxval, n)))\n",
    "    return new_cmap\n",
    "\n",
    "arr = np.linspace(0, 50, 100).reshape((10, 10))\n",
    "\n",
    "cmap = get_cmap(cm.YlGnBu)\n",
    "new_cmap = truncate_colormap(cmap, 0, 0.5)"
   ]
  },
  {
   "cell_type": "code",
   "execution_count": 23,
   "metadata": {
    "scrolled": true
   },
   "outputs": [
    {
     "name": "stdout",
     "output_type": "stream",
     "text": [
      "(1000, 1000)\n"
     ]
    },
    {
     "name": "stderr",
     "output_type": "stream",
     "text": [
      "/Library/Frameworks/Python.framework/Versions/3.6/lib/python3.6/site-packages/numpy/lib/function_base.py:1946: RuntimeWarning: invalid value encountered in subtract\n",
      "  a = op(a[slice1], a[slice2])\n"
     ]
    },
    {
     "name": "stdout",
     "output_type": "stream",
     "text": [
      "Binary Cohens Kappa:  0.875\n",
      "F1: 0.958\n",
      "Binary Cohens Kappa:  0.682\n",
      "F1: 0.813\n",
      "Binary Cohens Kappa:  0.624\n",
      "F1: 0.814\n",
      "Binary Cohens Kappa:  0.854\n",
      "F1: 0.944\n",
      "(1000, 1000)\n",
      "Binary Cohens Kappa:  0.556\n",
      "F1: 0.743\n",
      "Binary Cohens Kappa:  0.901\n",
      "F1: 0.955\n",
      "Binary Cohens Kappa:  0.146\n",
      "F1: 0.509\n",
      "Binary Cohens Kappa:  0.871\n",
      "F1: 0.955\n",
      "(53, 734)\n",
      "Binary Cohens Kappa:  0.427\n",
      "F1: 0.596\n",
      "Binary Cohens Kappa:  0.529\n",
      "F1: 0.738\n",
      "Binary Cohens Kappa:  0.806\n",
      "F1: 0.936\n",
      "Binary Cohens Kappa:  0.822\n",
      "F1: 0.931\n",
      "(3300, 750)\n",
      "Binary Cohens Kappa:  0.876\n",
      "F1: 0.967\n",
      "Binary Cohens Kappa:  0.706\n",
      "F1: 0.876\n",
      "Binary Cohens Kappa:  0.745\n",
      "F1: 0.928\n",
      "Binary Cohens Kappa:  0.846\n",
      "F1: 0.948\n"
     ]
    }
   ],
   "source": [
    "data_folder = '../data/'\n",
    "set_names = ['1','2','3','4']\n",
    "weight_names = ['1','2','3','1+2+3']\n",
    "freq = [1000,1000,500,1000]\n",
    "n_test_samples = 300\n",
    "np.random.seed(10)\n",
    "\n",
    "F1 = np.zeros((len(set_names),len(weight_names)))\n",
    "\n",
    "for iset,setname in enumerate(set_names):\n",
    "    \n",
    "    X = np.loadtxt(data_folder+'dataset'+setname+'/dataset'+setname+'_'+str(freq[iset])+'hz_X_setB.csv',delimiter=',')\n",
    "    Y = np.loadtxt(data_folder+'dataset'+setname+'/dataset'+setname+'_'+str(freq[iset])+'hz_Y_setB.csv',delimiter=',')\n",
    "    L = np.loadtxt(data_folder+'dataset'+setname+'/dataset'+setname+'_'+str(freq[iset])+'hz_Labels_setB.csv',delimiter=',')\n",
    "    randind = np.random.permutation(X.shape[0])[:n_test_samples]\n",
    "    print(L.shape)\n",
    "    for iw,w in enumerate(weight_names):\n",
    "        model = uneye.DNN(weights_name='weights_'+w,sampfreq=freq[iset],min_sacc_dur=6,min_sacc_dist=6)\n",
    "        Pred,Prob,Perf = model.test(X[randind,:],Y[randind,:],L[randind,:])\n",
    "        F1[iset,iw] = Perf['f1']\n",
    "        "
   ]
  },
  {
   "cell_type": "code",
   "execution_count": 28,
   "metadata": {
    "scrolled": false
   },
   "outputs": [
    {
     "name": "stderr",
     "output_type": "stream",
     "text": [
      "/Library/Frameworks/Python.framework/Versions/3.6/lib/python3.6/site-packages/matplotlib/colorbar.py:217: UserWarning: Use the colorbar set_ticks() method instead.\n",
      "  warnings.warn(\"Use the colorbar set_ticks() method instead.\")\n"
     ]
    },
    {
     "data": {
      "image/png": "[encoded data removed]",
      "text/plain": [
       "<Figure size 360x288 with 2 Axes>"
      ]
     },
     "metadata": {},
     "output_type": "display_data"
    },
    {
     "name": "stdout",
     "output_type": "stream",
     "text": [
      "Intra-set performance: mean= 0.95 std= 0.01\n",
      "Inter-set performance: mean= 0.79 std= 0.14\n"
     ]
    }
   ],
   "source": [
    "matplotlib.rcParams['pdf.fonttype'] = 42\n",
    "matplotlib.rcParams['ps.fonttype'] = 42\n",
    "\n",
    "fig, ax = subplots(figsize=(5,4))\n",
    "im = ax.imshow(F1,cmap=new_cmap,vmin=0.5,vmax=1)\n",
    "clb = colorbar(im)\n",
    "clb.ax.set_title('F1',fontsize=15)\n",
    "clb.ax.set_yticks(fontsize=15)\n",
    "\n",
    "# We want to show all ticks...\n",
    "ax.set_xticks(np.arange(len(weight_names)))\n",
    "ax.set_yticks(np.arange(len(set_names)))\n",
    "# ... and label them with the respective list entries\n",
    "ax.set_xticklabels(weight_names,fontsize=15)\n",
    "ax.set_yticklabels(set_names,fontsize=15)\n",
    "ax.xaxis.set_label_position('top') \n",
    "#ax.xaxis.tick_top()\n",
    "\n",
    "ax.xaxis.set_ticks_position('top')\n",
    "\n",
    "# axis labels\n",
    "ax.set_xlabel('Training set',fontsize=15)\n",
    "ax.set_ylabel('Test set',fontsize=15)\n",
    "\n",
    "\n",
    "# Loop over data dimensions and create text annotations.\n",
    "for i in range(len(set_names)):\n",
    "    for j in range(len(weight_names)):\n",
    "        text = ax.text(j, i, np.round(F1[i, j],2),\n",
    "                       ha=\"center\", va=\"center\", color=\"k\",size=15)\n",
    "#ax.set_title(\"F1 scores for different networks\",fontsize=15)\n",
    "fig.tight_layout()\n",
    "savefig('cross_performance.pdf')\n",
    "show()\n",
    "\n",
    "print('Intra-set performance: mean=',np.round(np.mean(F1[:-1,:-1].diagonal()),2),\n",
    "      'std=',np.round(np.std(F1[:-1,:-1].diagonal()),2))\n",
    "f1 = F1[:-1,:-1].copy()\n",
    "f1 = f1[np.where(~np.eye(f1.shape[0],dtype=bool))]\n",
    "f1 = np.concatenate([f1,F1[-1,:]])\n",
    "print('Inter-set performance: mean=',np.round(np.mean(f1),2),'std=',np.round(np.std(f1),2))"
   ]
  },
  {
   "cell_type": "markdown",
   "metadata": {},
   "source": [
    "# Train and test on 10 different human subjects"
   ]
  },
  {
   "cell_type": "code",
   "execution_count": 1,
   "metadata": {},
   "outputs": [
    {
     "name": "stdout",
     "output_type": "stream",
     "text": [
      "Early stopping at epoch 44 before overfitting occurred.\n",
      "Model parameters saved to ./training/dataset4_sub10\n"
     ]
    },
    {
     "data": {
      "text/plain": [
       "<Figure size 432x288 with 0 Axes>"
      ]
     },
     "metadata": {},
     "output_type": "display_data"
    },
    {
     "data": {
      "text/plain": [
       "<Figure size 432x288 with 0 Axes>"
      ]
     },
     "metadata": {},
     "output_type": "display_data"
    },
    {
     "data": {
      "text/plain": [
       "<Figure size 432x288 with 0 Axes>"
      ]
     },
     "metadata": {},
     "output_type": "display_data"
    },
    {
     "data": {
      "text/plain": [
       "<Figure size 432x288 with 0 Axes>"
      ]
     },
     "metadata": {},
     "output_type": "display_data"
    },
    {
     "data": {
      "text/plain": [
       "<Figure size 432x288 with 0 Axes>"
      ]
     },
     "metadata": {},
     "output_type": "display_data"
    },
    {
     "data": {
      "text/plain": [
       "<Figure size 432x288 with 0 Axes>"
      ]
     },
     "metadata": {},
     "output_type": "display_data"
    },
    {
     "data": {
      "text/plain": [
       "<Figure size 432x288 with 0 Axes>"
      ]
     },
     "metadata": {},
     "output_type": "display_data"
    },
    {
     "data": {
      "text/plain": [
       "<Figure size 432x288 with 0 Axes>"
      ]
     },
     "metadata": {},
     "output_type": "display_data"
    },
    {
     "data": {
      "text/plain": [
       "<Figure size 432x288 with 0 Axes>"
      ]
     },
     "metadata": {},
     "output_type": "display_data"
    },
    {
     "data": {
      "text/plain": [
       "<Figure size 432x288 with 0 Axes>"
      ]
     },
     "metadata": {},
     "output_type": "display_data"
    }
   ],
   "source": [
    "import numpy as np\n",
    "import os\n",
    "from matplotlib.pyplot import *\n",
    "%matplotlib inline\n",
    "import uneye\n",
    "\n",
    "datafolder = '../data/dataset4'\n",
    "X = np.loadtxt(os.path.join(datafolder,'dataset4_1000hz_X_setA.csv'),delimiter=',')\n",
    "Y = np.loadtxt(os.path.join(datafolder,'dataset4_1000hz_Y_setA.csv'),delimiter=',')\n",
    "L = np.loadtxt(os.path.join(datafolder,'dataset4_1000hz_Labels_setA.csv'),delimiter=',')\n",
    "sub = np.loadtxt(os.path.join(datafolder,'Subject_nb_setA.csv'),delimiter=',')\n",
    "\n",
    "subj = np.unique(sub)\n",
    "for s in subj:\n",
    "    subj_ind = np.where(sub==s)[0]\n",
    "    np.random.shuffle(subj_ind)\n",
    "    Xtrain = X[subj_ind,:]\n",
    "    Ytrain = Y[subj_ind,:]\n",
    "    Ltrain = L[subj_ind,:]\n",
    "    \n",
    "    model = uneye.DNN(weights_name='dataset4_sub%s' %int(s),sampfreq=1000,val_samples=30)\n",
    "    model.train(Xtrain,Ytrain,Ltrain)"
   ]
  },
  {
   "cell_type": "code",
   "execution_count": 29,
   "metadata": {},
   "outputs": [
    {
     "name": "stdout",
     "output_type": "stream",
     "text": [
      "Early stopping at epoch 59 before overfitting occurred.\n",
      "Model parameters saved to ./training/dataset4_all\n"
     ]
    },
    {
     "data": {
      "text/plain": [
       "<uneye.classifier.DNN at 0x10d40c550>"
      ]
     },
     "execution_count": 29,
     "metadata": {},
     "output_type": "execute_result"
    },
    {
     "data": {
      "text/plain": [
       "<Figure size 432x288 with 0 Axes>"
      ]
     },
     "metadata": {},
     "output_type": "display_data"
    }
   ],
   "source": [
    "# train a network on samples of all subjects\n",
    "import numpy as np\n",
    "import os\n",
    "from matplotlib.pyplot import *\n",
    "%matplotlib inline\n",
    "import uneye\n",
    "\n",
    "datafolder = '../data/dataset4'\n",
    "X = np.loadtxt(os.path.join(datafolder,'dataset4_1000hz_X_setA.csv'),delimiter=',')\n",
    "Y = np.loadtxt(os.path.join(datafolder,'dataset4_1000hz_Y_setA.csv'),delimiter=',')\n",
    "L = np.loadtxt(os.path.join(datafolder,'dataset4_1000hz_Labels_setA.csv'),delimiter=',')\n",
    "sub = np.loadtxt(os.path.join(datafolder,'Subject_nb_setA.csv'),delimiter=',')\n",
    "\n",
    "subj = np.unique(sub)\n",
    "chosen_ind = np.zeros(330)\n",
    "for i,s in enumerate(subj):\n",
    "    subj_ind = np.where(sub==s)[0]\n",
    "    chosen_ind[i*33:(i+1)*33] = subj_ind[np.random.permutation(len(subj_ind))[:33]]\n",
    "\n",
    "Xtrain = X[chosen_ind,:]\n",
    "Ytrain = Y[chosen_ind,:]\n",
    "Ltrain = L[chosen_ind,:]\n",
    "print(len(chosen_ind))\n",
    "model = uneye.DNN(weights_name='dataset4_all',sampfreq=1000,val_samples=30)\n",
    "model.train(Xtrain,Ytrain,Ltrain)"
   ]
  },
  {
   "cell_type": "code",
   "execution_count": 3,
   "metadata": {
    "scrolled": true
   },
   "outputs": [
    {
     "name": "stdout",
     "output_type": "stream",
     "text": [
      "Binary Cohens Kappa:  0.9\n",
      "F1: 0.944\n"
     ]
    },
    {
     "name": "stderr",
     "output_type": "stream",
     "text": [
      "/Library/Frameworks/Python.framework/Versions/3.6/lib/python3.6/site-packages/numpy/lib/function_base.py:1946: RuntimeWarning: invalid value encountered in subtract\n",
      "  a = op(a[slice1], a[slice2])\n"
     ]
    },
    {
     "name": "stdout",
     "output_type": "stream",
     "text": [
      "Binary Cohens Kappa:  0.833\n",
      "F1: 0.941\n",
      "Binary Cohens Kappa:  0.88\n",
      "F1: 0.939\n",
      "Binary Cohens Kappa:  0.9\n",
      "F1: 0.97\n",
      "Binary Cohens Kappa:  0.916\n",
      "F1: 0.979\n",
      "Binary Cohens Kappa:  0.84\n",
      "F1: 0.924\n",
      "Binary Cohens Kappa:  0.937\n",
      "F1: 0.998\n",
      "Binary Cohens Kappa:  0.85\n",
      "F1: 0.952\n",
      "Binary Cohens Kappa:  0.887\n",
      "F1: 0.896\n",
      "Binary Cohens Kappa:  0.829\n",
      "F1: 0.928\n",
      "Binary Cohens Kappa:  0.884\n",
      "F1: 0.844\n",
      "Binary Cohens Kappa:  0.899\n",
      "F1: 0.961\n",
      "Binary Cohens Kappa:  0.904\n",
      "F1: 0.938\n",
      "Binary Cohens Kappa:  0.928\n",
      "F1: 0.976\n",
      "Binary Cohens Kappa:  0.956\n",
      "F1: 0.991\n",
      "Binary Cohens Kappa:  0.88\n",
      "F1: 0.935\n",
      "Binary Cohens Kappa:  0.952\n",
      "F1: 0.992\n",
      "Binary Cohens Kappa:  0.899\n",
      "F1: 0.965\n",
      "Binary Cohens Kappa:  0.92\n",
      "F1: 0.934\n",
      "Binary Cohens Kappa:  0.898\n",
      "F1: 0.964\n",
      "Binary Cohens Kappa:  0.918\n",
      "F1: 0.944\n",
      "Binary Cohens Kappa:  0.901\n",
      "F1: 0.97\n",
      "Binary Cohens Kappa:  0.919\n",
      "F1: 0.953\n",
      "Binary Cohens Kappa:  0.929\n",
      "F1: 0.973\n",
      "Binary Cohens Kappa:  0.951\n",
      "F1: 0.991\n",
      "Binary Cohens Kappa:  0.877\n",
      "F1: 0.939\n",
      "Binary Cohens Kappa:  0.923\n",
      "F1: 0.983\n",
      "Binary Cohens Kappa:  0.894\n",
      "F1: 0.936\n",
      "Binary Cohens Kappa:  0.909\n",
      "F1: 0.915\n",
      "Binary Cohens Kappa:  0.884\n",
      "F1: 0.958\n",
      "Binary Cohens Kappa:  0.912\n",
      "F1: 0.904\n",
      "Binary Cohens Kappa:  0.858\n",
      "F1: 0.953\n",
      "Binary Cohens Kappa:  0.88\n",
      "F1: 0.935\n",
      "Binary Cohens Kappa:  0.936\n",
      "F1: 0.986\n",
      "Binary Cohens Kappa:  0.96\n",
      "F1: 0.993\n",
      "Binary Cohens Kappa:  0.855\n",
      "F1: 0.941\n",
      "Binary Cohens Kappa:  0.959\n",
      "F1: 0.985\n",
      "Binary Cohens Kappa:  0.862\n",
      "F1: 0.964\n",
      "Binary Cohens Kappa:  0.873\n",
      "F1: 0.857\n",
      "Binary Cohens Kappa:  0.876\n",
      "F1: 0.979\n",
      "Binary Cohens Kappa:  0.862\n",
      "F1: 0.718\n",
      "Binary Cohens Kappa:  0.868\n",
      "F1: 0.913\n",
      "Binary Cohens Kappa:  0.866\n",
      "F1: 0.822\n",
      "Binary Cohens Kappa:  0.933\n",
      "F1: 0.955\n",
      "Binary Cohens Kappa:  0.967\n",
      "F1: 0.991\n",
      "Binary Cohens Kappa:  0.86\n",
      "F1: 0.934\n",
      "Binary Cohens Kappa:  0.968\n",
      "F1: 0.992\n",
      "Binary Cohens Kappa:  0.899\n",
      "F1: 0.906\n",
      "Binary Cohens Kappa:  0.858\n",
      "F1: 0.748\n",
      "Binary Cohens Kappa:  0.887\n",
      "F1: 0.932\n",
      "Binary Cohens Kappa:  0.837\n",
      "F1: 0.776\n",
      "Binary Cohens Kappa:  0.877\n",
      "F1: 0.946\n",
      "Binary Cohens Kappa:  0.843\n",
      "F1: 0.856\n",
      "Binary Cohens Kappa:  0.937\n",
      "F1: 0.974\n",
      "Binary Cohens Kappa:  0.954\n",
      "F1: 0.99\n",
      "Binary Cohens Kappa:  0.904\n",
      "F1: 0.954\n",
      "Binary Cohens Kappa:  0.951\n",
      "F1: 0.98\n",
      "Binary Cohens Kappa:  0.896\n",
      "F1: 0.955\n",
      "Binary Cohens Kappa:  0.785\n",
      "F1: 0.702\n",
      "Binary Cohens Kappa:  0.899\n",
      "F1: 0.958\n",
      "Binary Cohens Kappa:  0.802\n",
      "F1: 0.597\n",
      "Binary Cohens Kappa:  0.855\n",
      "F1: 0.919\n",
      "Binary Cohens Kappa:  0.854\n",
      "F1: 0.81\n",
      "Binary Cohens Kappa:  0.935\n",
      "F1: 0.957\n",
      "Binary Cohens Kappa:  0.963\n",
      "F1: 0.99\n",
      "Binary Cohens Kappa:  0.871\n",
      "F1: 0.879\n",
      "Binary Cohens Kappa:  0.971\n",
      "F1: 0.992\n",
      "Binary Cohens Kappa:  0.88\n",
      "F1: 0.911\n",
      "Binary Cohens Kappa:  0.855\n",
      "F1: 0.771\n",
      "Binary Cohens Kappa:  0.906\n",
      "F1: 0.932\n",
      "Binary Cohens Kappa:  0.861\n",
      "F1: 0.752\n",
      "Binary Cohens Kappa:  0.862\n",
      "F1: 0.943\n",
      "Binary Cohens Kappa:  0.874\n",
      "F1: 0.871\n",
      "Binary Cohens Kappa:  0.923\n",
      "F1: 0.975\n",
      "Binary Cohens Kappa:  0.953\n",
      "F1: 0.986\n",
      "Binary Cohens Kappa:  0.859\n",
      "F1: 0.94\n",
      "Binary Cohens Kappa:  0.953\n",
      "F1: 0.992\n",
      "Binary Cohens Kappa:  0.889\n",
      "F1: 0.948\n",
      "Binary Cohens Kappa:  0.865\n",
      "F1: 0.806\n",
      "Binary Cohens Kappa:  0.898\n",
      "F1: 0.972\n",
      "Binary Cohens Kappa:  0.918\n",
      "F1: 0.962\n",
      "Binary Cohens Kappa:  0.804\n",
      "F1: 0.861\n",
      "Binary Cohens Kappa:  0.885\n",
      "F1: 0.937\n",
      "Binary Cohens Kappa:  0.887\n",
      "F1: 0.927\n",
      "Binary Cohens Kappa:  0.93\n",
      "F1: 0.955\n",
      "Binary Cohens Kappa:  0.701\n",
      "F1: 0.737\n",
      "Binary Cohens Kappa:  0.944\n",
      "F1: 0.983\n",
      "Binary Cohens Kappa:  0.807\n",
      "F1: 0.846\n",
      "Binary Cohens Kappa:  0.936\n",
      "F1: 0.95\n",
      "Binary Cohens Kappa:  0.813\n",
      "F1: 0.875\n",
      "Binary Cohens Kappa:  0.868\n",
      "F1: 0.876\n",
      "Binary Cohens Kappa:  0.862\n",
      "F1: 0.936\n",
      "Binary Cohens Kappa:  0.887\n",
      "F1: 0.927\n",
      "Binary Cohens Kappa:  0.927\n",
      "F1: 0.976\n",
      "Binary Cohens Kappa:  0.954\n",
      "F1: 0.993\n",
      "Binary Cohens Kappa:  0.879\n",
      "F1: 0.96\n",
      "Binary Cohens Kappa:  0.958\n",
      "F1: 0.988\n",
      "Binary Cohens Kappa:  0.907\n",
      "F1: 0.965\n",
      "Binary Cohens Kappa:  0.875\n",
      "F1: 0.851\n",
      "Binary Cohens Kappa:  0.899\n",
      "F1: 0.97\n",
      "Binary Cohens Kappa:  0.924\n",
      "F1: 0.93\n",
      "Binary Cohens Kappa:  0.903\n",
      "F1: 0.955\n",
      "Binary Cohens Kappa:  0.92\n",
      "F1: 0.944\n",
      "Binary Cohens Kappa:  0.944\n",
      "F1: 0.978\n",
      "Binary Cohens Kappa:  0.967\n",
      "F1: 0.997\n",
      "Binary Cohens Kappa:  0.914\n",
      "F1: 0.952\n",
      "Binary Cohens Kappa:  0.97\n",
      "F1: 0.994\n",
      "Binary Cohens Kappa:  0.889\n",
      "F1: 0.953\n",
      "Binary Cohens Kappa:  0.94\n",
      "F1: 0.96\n",
      "Binary Cohens Kappa:  0.916\n",
      "F1: 0.972\n"
     ]
    }
   ],
   "source": [
    "# test performance\n",
    "import numpy as np\n",
    "import os\n",
    "from matplotlib.pyplot import *\n",
    "%matplotlib inline\n",
    "import uneye\n",
    "\n",
    "datafolder = '../data/dataset4'\n",
    "X = np.loadtxt(os.path.join(datafolder,'dataset4_1000hz_X_setB.csv'),delimiter=',')\n",
    "Y = np.loadtxt(os.path.join(datafolder,'dataset4_1000hz_Y_setB.csv'),delimiter=',')\n",
    "L = np.loadtxt(os.path.join(datafolder,'dataset4_1000hz_Labels_setB.csv'),delimiter=',')\n",
    "sub = np.loadtxt(os.path.join(datafolder,'Subject_nb_setB.csv'),delimiter=',')\n",
    "\n",
    "subj = np.unique(sub)\n",
    "\n",
    "\n",
    "F1 = np.zeros((len(subj)+1,len(subj)+1))\n",
    "Kappa = np.zeros((len(subj)+1,len(subj)+1))\n",
    "\n",
    "# test models trained on different subjects\n",
    "for i1,s1 in enumerate(subj):\n",
    "    model = uneye.DNN(weights_name='dataset4_sub%s' %int(s1),sampfreq=1000,min_sacc_dur=6,min_sacc_dist=6)\n",
    "    # test on individual subjects\n",
    "    for i2,s2 in enumerate(subj):\n",
    "        subj_ind = np.where(sub==s2)[0]\n",
    "        Xtest = X[subj_ind,:]\n",
    "        Ytest = Y[subj_ind,:]\n",
    "        Ltest = L[subj_ind,:]\n",
    "        \n",
    "        \n",
    "        Pred,Prob,Perf = model.test(Xtest,Ytest,Ltest)\n",
    "        F1[i2,i1] = Perf['f1']\n",
    "        Kappa[i2,i1] = Perf['kappa']\n",
    "        \n",
    "    # average on all subjects\n",
    "    #Pred,Prob,Perf = model.test(X,Y,L)\n",
    "    F1[-1,i1] = np.mean(F1[:-1,i1])\n",
    "    Kappa[-1,i1] = np.mean(Kappa[:-1,i1])\n",
    "    \n",
    "\n",
    "# test model trained on all subjects\n",
    "model = uneye.DNN(weights_name='dataset4_all',sampfreq=1000,min_sacc_dur=6,min_sacc_dist=6)\n",
    "for i2,s2 in enumerate(subj):\n",
    "    subj_ind = np.where(sub==s2)[0]\n",
    "    Xtest = X[subj_ind,:]\n",
    "    Ytest = Y[subj_ind,:]\n",
    "    Ltest = L[subj_ind,:]\n",
    "    \n",
    "    \n",
    "    Pred,Prob,Perf = model.test(Xtest,Ytest,Ltest)\n",
    "    F1[i2,-1] = Perf['f1']\n",
    "    Kappa[i2,-1] = Perf['kappa']\n",
    "\n",
    "#Pred,Prob,Perf = model.test(X,Y,L)\n",
    "F1[-1,-1] = np.mean(F1[:-1,-1])\n",
    "Kappa[-1,-1] = np.mean(Kappa[:-1,-1])"
   ]
  },
  {
   "cell_type": "code",
   "execution_count": 20,
   "metadata": {},
   "outputs": [
    {
     "name": "stderr",
     "output_type": "stream",
     "text": [
      "/Library/Frameworks/Python.framework/Versions/3.6/lib/python3.6/site-packages/matplotlib/colorbar.py:217: UserWarning: Use the colorbar set_ticks() method instead.\n",
      "  warnings.warn(\"Use the colorbar set_ticks() method instead.\")\n"
     ]
    },
    {
     "data": {
      "image/png": "[encoded data removed]",
      "text/plain": [
       "<Figure size 648x504 with 2 Axes>"
      ]
     },
     "metadata": {},
     "output_type": "display_data"
    },
    {
     "name": "stdout",
     "output_type": "stream",
     "text": [
      "Intra-set performance: mean= 0.96 std= 0.02\n",
      "Inter-set performance: mean= 0.92 std= 0.08\n",
      "Performance when trained on all:\n",
      "mean= 0.96 std= 0.02\n"
     ]
    }
   ],
   "source": [
    "import matplotlib.colors as colors\n",
    "matplotlib.rcParams['pdf.fonttype'] = 42\n",
    "matplotlib.rcParams['ps.fonttype'] = 42\n",
    "\n",
    "def truncate_colormap(cmap, minval=0.0, maxval=1.0, n=100):\n",
    "    new_cmap = colors.LinearSegmentedColormap.from_list(\n",
    "        'trunc({n},{a:.2f},{b:.2f})'.format(n=cmap.name, a=minval, b=maxval),\n",
    "        cmap(np.linspace(minval, maxval, n)))\n",
    "    return new_cmap\n",
    "\n",
    "arr = np.linspace(0, 50, 100).reshape((10, 10))\n",
    "\n",
    "cmap = get_cmap(cm.YlGnBu)\n",
    "new_cmap = truncate_colormap(cmap, 0, 0.5)\n",
    "\n",
    "figure(figsize=(9,7))\n",
    "ax = subplot(111)\n",
    "im = ax.imshow(F1[:-1,:],cmap=new_cmap,vmin=0.5,vmax=1)\n",
    "\n",
    "# We want to show all ticks...\n",
    "ax.set_xticks(np.arange(len(subj)+1))\n",
    "ax.set_yticks(np.arange(len(subj)))\n",
    "# ... and label them with the respective list entries\n",
    "ax.set_xticklabels(list(subj.astype(int))+['all'],fontsize=13)\n",
    "ax.set_yticklabels(list(subj.astype(int)),fontsize=13)\n",
    "ax.xaxis.set_label_position('top') \n",
    "clb = colorbar(im)\n",
    "clb.ax.set_title('F1',fontsize=13)\n",
    "clb.ax.set_yticks(fontsize=13)\n",
    "\n",
    "ax.xaxis.set_ticks_position('top')\n",
    "\n",
    "# axis labels\n",
    "ax.set_xlabel('Training subject',fontsize=15)\n",
    "ax.set_ylabel('Test subject',fontsize=15)\n",
    "\n",
    "\n",
    "# Loop over data dimensions and create text annotations.\n",
    "for i in range(len(subj)):\n",
    "    for j in range(len(subj)+1):\n",
    "        text = ax.text(j, i, np.round(F1[i, j],2),\n",
    "                       ha=\"center\", va=\"center\", color=\"k\",size=14)\n",
    "        \n",
    "tight_layout()\n",
    "savefig('cross_subjects.pdf')\n",
    "show()\n",
    "\n",
    "print('Intra-set performance: mean=',np.round(np.mean(F1[:-1,:-1].diagonal()),2),\n",
    "      'std=',np.round(np.std(F1[:-1,:-1].diagonal()),2))\n",
    "f1 = F1[:-1,:-1].copy()\n",
    "f1 = f1[np.where(~np.eye(f1.shape[0],dtype=bool))]\n",
    "print('Inter-set performance: mean=',np.round(np.mean(f1),2),'std=',np.round(np.std(f1),2))\n",
    "\n",
    "print('Performance when trained on all:')\n",
    "print('mean=',np.round(np.mean(F1[:-1,-1]),2),'std=',np.round(np.std(F1[:-1,-1]),2))"
   ]
  }
 ],
 "metadata": {
  "kernelspec": {
   "display_name": "Python 3",
   "language": "python",
   "name": "python3"
  },
  "language_info": {
   "codemirror_mode": {
    "name": "ipython",
    "version": 3
   },
   "file_extension": ".py",
   "mimetype": "text/x-python",
   "name": "python",
   "nbconvert_exporter": "python",
   "pygments_lexer": "ipython3",
   "version": "3.6.5"
  }
 },
 "nbformat": 4,
 "nbformat_minor": 2
}
