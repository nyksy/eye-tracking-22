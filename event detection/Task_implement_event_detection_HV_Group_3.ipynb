{
 "cells": [
  {
   "cell_type": "markdown",
   "metadata": {
    "id": "AqBHYoOsjz1A"
   },
   "source": [
    "# Homework: Event detection\n",
    "Group: 3 GOLDEN EYE tai joku kiva nimi  \n",
    "Author: Jani Koskinen, Juho Nykänen  \n",
    "Date: 2.11. 2022, 24.11.2022\n",
    "\n",
    "See following notebooks for more information:\n",
    "* Analyzing ET data 1 & 2\n",
    "\n",
    "Scroll down to see the task description\n"
   ]
  },
  {
   "cell_type": "markdown",
   "metadata": {
    "id": "3bkOulLveXkp"
   },
   "source": [
    "## Load prerequisites\n",
    "\n",
    "Import some required libraries"
   ]
  },
  {
   "cell_type": "code",
   "execution_count": 1,
   "metadata": {
    "id": "at7DIiFvdklg"
   },
   "outputs": [
    {
     "name": "stderr",
     "output_type": "stream",
     "text": [
      "c:\\Python\\Python38\\lib\\site-packages\\pandas\\core\\computation\\expressions.py:20: UserWarning: Pandas requires version '2.7.3' or newer of 'numexpr' (version '2.7.1' currently installed).\n",
      "  from pandas.core.computation.check import NUMEXPR_INSTALLED\n"
     ]
    }
   ],
   "source": [
    "import pandas as pd\n",
    "import numpy as np\n",
    "import matplotlib.pyplot as plt"
   ]
  },
  {
   "cell_type": "markdown",
   "metadata": {
    "id": "IQxPZU-Edtzt"
   },
   "source": [
    "Load eye tracking data from the Jenga experiment. If you are running this locally, comment out/remove the !wget line and change to path to the pd.read_csv function (if you only exctracted the zip, the file should be in 'data/jenga-clip-data.csv').\n"
   ]
  },
  {
   "cell_type": "code",
   "execution_count": 2,
   "metadata": {
    "colab": {
     "base_uri": "https://localhost:8080/"
    },
    "executionInfo": {
     "elapsed": 558,
     "status": "ok",
     "timestamp": 1667391596508,
     "user": {
      "displayName": "Jani Koskinen",
      "userId": "14657117496515148563"
     },
     "user_tz": -120
    },
    "id": "lHmA0OSOdxqG",
    "outputId": "c6d0c5e6-c1b0-4cb8-80b5-7722ffdb978b"
   },
   "outputs": [
    {
     "data": {
      "text/html": [
       "<div>\n",
       "<style scoped>\n",
       "    .dataframe tbody tr th:only-of-type {\n",
       "        vertical-align: middle;\n",
       "    }\n",
       "\n",
       "    .dataframe tbody tr th {\n",
       "        vertical-align: top;\n",
       "    }\n",
       "\n",
       "    .dataframe thead th {\n",
       "        text-align: right;\n",
       "    }\n",
       "</style>\n",
       "<table border=\"1\" class=\"dataframe\">\n",
       "  <thead>\n",
       "    <tr style=\"text-align: right;\">\n",
       "      <th></th>\n",
       "      <th>Recording timestamp</th>\n",
       "      <th>Computer timestamp</th>\n",
       "      <th>Sensor</th>\n",
       "      <th>Project name</th>\n",
       "      <th>Export date</th>\n",
       "      <th>Participant name</th>\n",
       "      <th>Recording name</th>\n",
       "      <th>Recording date</th>\n",
       "      <th>Recording date UTC</th>\n",
       "      <th>Recording start time</th>\n",
       "      <th>...</th>\n",
       "      <th>Gaze event duration</th>\n",
       "      <th>Eye movement type index</th>\n",
       "      <th>Fixation point X</th>\n",
       "      <th>Fixation point Y</th>\n",
       "      <th>Gyro X</th>\n",
       "      <th>Gyro Y</th>\n",
       "      <th>Gyro Z</th>\n",
       "      <th>Accelerometer X</th>\n",
       "      <th>Accelerometer Y</th>\n",
       "      <th>Accelerometer Z</th>\n",
       "    </tr>\n",
       "  </thead>\n",
       "  <tbody>\n",
       "    <tr>\n",
       "      <th>0</th>\n",
       "      <td>1109375</td>\n",
       "      <td>212014414</td>\n",
       "      <td>Eye Tracker</td>\n",
       "      <td>Jenga-project</td>\n",
       "      <td>23.6.2022</td>\n",
       "      <td>T1</td>\n",
       "      <td>Recording001</td>\n",
       "      <td>1/1/2000</td>\n",
       "      <td>1/1/2000</td>\n",
       "      <td>2:19:16 AM</td>\n",
       "      <td>...</td>\n",
       "      <td>440</td>\n",
       "      <td>5</td>\n",
       "      <td>953.0</td>\n",
       "      <td>518.0</td>\n",
       "      <td>NaN</td>\n",
       "      <td>NaN</td>\n",
       "      <td>NaN</td>\n",
       "      <td>NaN</td>\n",
       "      <td>NaN</td>\n",
       "      <td>NaN</td>\n",
       "    </tr>\n",
       "    <tr>\n",
       "      <th>1</th>\n",
       "      <td>1119370</td>\n",
       "      <td>212024409</td>\n",
       "      <td>Eye Tracker</td>\n",
       "      <td>Jenga-project</td>\n",
       "      <td>23.6.2022</td>\n",
       "      <td>T1</td>\n",
       "      <td>Recording001</td>\n",
       "      <td>1/1/2000</td>\n",
       "      <td>1/1/2000</td>\n",
       "      <td>2:19:16 AM</td>\n",
       "      <td>...</td>\n",
       "      <td>440</td>\n",
       "      <td>5</td>\n",
       "      <td>953.0</td>\n",
       "      <td>518.0</td>\n",
       "      <td>NaN</td>\n",
       "      <td>NaN</td>\n",
       "      <td>NaN</td>\n",
       "      <td>NaN</td>\n",
       "      <td>NaN</td>\n",
       "      <td>NaN</td>\n",
       "    </tr>\n",
       "    <tr>\n",
       "      <th>2</th>\n",
       "      <td>1129363</td>\n",
       "      <td>212034402</td>\n",
       "      <td>Eye Tracker</td>\n",
       "      <td>Jenga-project</td>\n",
       "      <td>23.6.2022</td>\n",
       "      <td>T1</td>\n",
       "      <td>Recording001</td>\n",
       "      <td>1/1/2000</td>\n",
       "      <td>1/1/2000</td>\n",
       "      <td>2:19:16 AM</td>\n",
       "      <td>...</td>\n",
       "      <td>440</td>\n",
       "      <td>5</td>\n",
       "      <td>953.0</td>\n",
       "      <td>518.0</td>\n",
       "      <td>NaN</td>\n",
       "      <td>NaN</td>\n",
       "      <td>NaN</td>\n",
       "      <td>NaN</td>\n",
       "      <td>NaN</td>\n",
       "      <td>NaN</td>\n",
       "    </tr>\n",
       "    <tr>\n",
       "      <th>3</th>\n",
       "      <td>1139349</td>\n",
       "      <td>212044388</td>\n",
       "      <td>Eye Tracker</td>\n",
       "      <td>Jenga-project</td>\n",
       "      <td>23.6.2022</td>\n",
       "      <td>T1</td>\n",
       "      <td>Recording001</td>\n",
       "      <td>1/1/2000</td>\n",
       "      <td>1/1/2000</td>\n",
       "      <td>2:19:16 AM</td>\n",
       "      <td>...</td>\n",
       "      <td>440</td>\n",
       "      <td>5</td>\n",
       "      <td>953.0</td>\n",
       "      <td>518.0</td>\n",
       "      <td>NaN</td>\n",
       "      <td>NaN</td>\n",
       "      <td>NaN</td>\n",
       "      <td>NaN</td>\n",
       "      <td>NaN</td>\n",
       "      <td>NaN</td>\n",
       "    </tr>\n",
       "    <tr>\n",
       "      <th>4</th>\n",
       "      <td>1149345</td>\n",
       "      <td>212054384</td>\n",
       "      <td>Eye Tracker</td>\n",
       "      <td>Jenga-project</td>\n",
       "      <td>23.6.2022</td>\n",
       "      <td>T1</td>\n",
       "      <td>Recording001</td>\n",
       "      <td>1/1/2000</td>\n",
       "      <td>1/1/2000</td>\n",
       "      <td>2:19:16 AM</td>\n",
       "      <td>...</td>\n",
       "      <td>440</td>\n",
       "      <td>5</td>\n",
       "      <td>953.0</td>\n",
       "      <td>518.0</td>\n",
       "      <td>NaN</td>\n",
       "      <td>NaN</td>\n",
       "      <td>NaN</td>\n",
       "      <td>NaN</td>\n",
       "      <td>NaN</td>\n",
       "      <td>NaN</td>\n",
       "    </tr>\n",
       "  </tbody>\n",
       "</table>\n",
       "<p>5 rows × 50 columns</p>\n",
       "</div>"
      ],
      "text/plain": [
       "   Recording timestamp  Computer timestamp       Sensor   Project name  \\\n",
       "0              1109375           212014414  Eye Tracker  Jenga-project   \n",
       "1              1119370           212024409  Eye Tracker  Jenga-project   \n",
       "2              1129363           212034402  Eye Tracker  Jenga-project   \n",
       "3              1139349           212044388  Eye Tracker  Jenga-project   \n",
       "4              1149345           212054384  Eye Tracker  Jenga-project   \n",
       "\n",
       "  Export date Participant name Recording name Recording date  \\\n",
       "0   23.6.2022               T1   Recording001       1/1/2000   \n",
       "1   23.6.2022               T1   Recording001       1/1/2000   \n",
       "2   23.6.2022               T1   Recording001       1/1/2000   \n",
       "3   23.6.2022               T1   Recording001       1/1/2000   \n",
       "4   23.6.2022               T1   Recording001       1/1/2000   \n",
       "\n",
       "  Recording date UTC Recording start time  ... Gaze event duration  \\\n",
       "0           1/1/2000           2:19:16 AM  ...                 440   \n",
       "1           1/1/2000           2:19:16 AM  ...                 440   \n",
       "2           1/1/2000           2:19:16 AM  ...                 440   \n",
       "3           1/1/2000           2:19:16 AM  ...                 440   \n",
       "4           1/1/2000           2:19:16 AM  ...                 440   \n",
       "\n",
       "   Eye movement type index Fixation point X Fixation point Y  Gyro X  Gyro Y  \\\n",
       "0                        5            953.0            518.0     NaN     NaN   \n",
       "1                        5            953.0            518.0     NaN     NaN   \n",
       "2                        5            953.0            518.0     NaN     NaN   \n",
       "3                        5            953.0            518.0     NaN     NaN   \n",
       "4                        5            953.0            518.0     NaN     NaN   \n",
       "\n",
       "   Gyro Z  Accelerometer X  Accelerometer Y  Accelerometer Z  \n",
       "0     NaN              NaN              NaN              NaN  \n",
       "1     NaN              NaN              NaN              NaN  \n",
       "2     NaN              NaN              NaN              NaN  \n",
       "3     NaN              NaN              NaN              NaN  \n",
       "4     NaN              NaN              NaN              NaN  \n",
       "\n",
       "[5 rows x 50 columns]"
      ]
     },
     "execution_count": 2,
     "metadata": {},
     "output_type": "execute_result"
    }
   ],
   "source": [
    "# !wget 'https://raw.githubusercontent.com/jpkos/ET_UEF/main/data/jenga-clip-data.csv'\n",
    "# Change path if running locally e.g. with jupyterlab\n",
    "df = pd.read_csv(\n",
    "    'https://raw.githubusercontent.com/jpkos/ET_UEF/main/data/jenga-clip-data.csv')\n",
    "df_et = df[df['Sensor'] == 'Eye Tracker'].reset_index(\n",
    "    drop=True)  # Leave only Eye tracker data\n",
    "\n",
    "df_et.head()\n"
   ]
  },
  {
   "cell_type": "markdown",
   "metadata": {
    "id": "jDhn2kY_e-Gk"
   },
   "source": []
  },
  {
   "cell_type": "markdown",
   "metadata": {
    "id": "EyX50B74lGEv",
    "pycharm": {
     "name": "#%% md\n"
    }
   },
   "source": [
    "# Detecting fixations\n",
    "\n",
    "In the previous notebooks we saw that it was easy to visually distinguish the two main gaze-related events, fixations and saccades. When the gaze location is \"jittering\" around a small area, it's a fixation, and when gaze makes a sudden, larger jump, it's a saccade. To detect these events automatically, we might think of doing something like this:\n",
    "\n",
    "```\n",
    "events_list = []\n",
    "for each gaze_point in data:\n",
    "  if (distance between current gaze_point and previous gaze_point) < threshold:\n",
    "    add 'fixation' to events_list\n",
    "  else:\n",
    "    add 'saccade' to events_list\n",
    "```\n",
    "\n",
    "In fact, many of the traditional algorithms for detecting gaze events are not that far from this simple idea."
   ]
  },
  {
   "cell_type": "markdown",
   "metadata": {
    "id": "YqTZR9wXSBJ1",
    "pycharm": {
     "name": "#%% md\n"
    }
   },
   "source": [
    "## **Homework**: Implement your algorithm\n",
    "\n",
    "In this homework, your task is to study, explore, and compare the event-filtering algorithms. In the task, you select one algorithm, implement it yourself, and apply it in the group project. In this notebook, you can compare how your implementation scored against the proprietary implementation - Tobii Glasses 2 eye tracker's own fixation detection method. Don't despair! The goal is not to create a perfect filtering algorithm but to learn principles of filtering in eye-tracking research.\n",
    "\n",
    "**Task 1.** Write the pseudocode of your algorithm below in the first (empty) code block."
   ]
  },
  {
   "cell_type": "markdown",
   "metadata": {
    "id": "THbcfw3jaypD"
   },
   "source": [
    "# Task 1. Your Pseudocode of your algorithm here\n",
    "## ID-T\n",
    "```\n",
    "While there are points  \n",
    "\n",
    "    Initialize window over first points until current time > start time + min duration\n",
    "\n",
    "    If dispersion <= threshold  \n",
    "\n",
    "        Add points to window until dispersion > threshold  \n",
    "\n",
    "        Save the centroids of the points\n",
    "\n",
    "        Remove window points from points  \n",
    "\n",
    "    Else  \n",
    "\n",
    "        Remove first point from points \n",
    "\n",
    "return fixation points\n",
    "```"
   ]
  },
  {
   "cell_type": "markdown",
   "metadata": {
    "id": "bVAGhnRFa1io"
   },
   "source": [
    "**Task 2.** Then, edit the function in the next code block so that it takes the x- and y-coordinates of the gaze, applies your fixation detection algorithm and outputs a list where each element is either 'Fixation' or 'Saccade'. The list should have the same length as the original eye tracker dataset, 1946.\n",
    "\n",
    "The gaze locations are in the et_df dataframe under column names 'Gaze point X', 'Gaze point 'Y. One row corresponds to one measured gaze point.\n",
    "\n",
    "Implement your algorithm in the code block. As an example, the function shows an implementation of the simple algorithm, feel free to test it with different threshold values. Replace lines 3 - 5 with you own code."
   ]
  },
  {
   "cell_type": "code",
   "execution_count": 3,
   "metadata": {},
   "outputs": [],
   "source": [
    "def get_dispersion(x, y):\n",
    "    \"\"\"Calculate dispersion somehow, idea from: https://github.com/ecekt/eyegaze\n",
    "\n",
    "    Args:\n",
    "        x (numpy array): x coordinates\n",
    "        y (numpy array): y coordinates\n",
    "\n",
    "    Returns:\n",
    "        float: amount of dispersion\n",
    "    \"\"\"\n",
    "    x = np.array(x)\n",
    "    y = np.array(y)\n",
    "\n",
    "    argxmin = np.min(x.astype(float))\n",
    "    argxmax = np.max(x.astype(float))\n",
    "\n",
    "    argymin = np.min(y.astype(float))\n",
    "    argymax = np.max(y.astype(float))\n",
    "\n",
    "    return ((argxmax - argxmin) + (argymax - argymin))/2\n"
   ]
  },
  {
   "cell_type": "code",
   "execution_count": 4,
   "metadata": {},
   "outputs": [],
   "source": [
    "def our_idt(x, y, t, max_disp=10, min_dur=50000):\n",
    "    # helper variables\n",
    "    fixations = []\n",
    "    i = 0\n",
    "    last = 0\n",
    "\n",
    "    # loop points\n",
    "    while(i < len(x)):\n",
    "\n",
    "        # reset variables\n",
    "        dispersion = 0.0\n",
    "        window = []\n",
    "\n",
    "        # add first timepoint\n",
    "        window.append(t[last])\n",
    "\n",
    "        last_time = t[last]\n",
    "        start_time = last_time\n",
    "        last = last + 1\n",
    "\n",
    "        y_fixations = []\n",
    "        x_fixations = []\n",
    "\n",
    "        # Initialize window over first points to cover the duration threshold\n",
    "        while((start_time + min_dur) >= last_time and last + 1 < len(x)):\n",
    "            x_fixations.append(x[last])\n",
    "            y_fixations.append(y[last])\n",
    "\n",
    "            last = last + 1\n",
    "            last_time = t[last]\n",
    "\n",
    "        # If dispersion of window points <= threshold  \n",
    "        if len(x_fixations) > 0 and get_dispersion(x_fixations, y_fixations) <= max_disp:\n",
    "\n",
    "            # Add additional points to the window until dispersion > threshold  \n",
    "            while (dispersion <= max_disp and last + 1 < len(x)):\n",
    "                x_fixations.append(x[last])\n",
    "                y_fixations.append(y[last])\n",
    "\n",
    "                dispersion = get_dispersion(x_fixations, y_fixations)\n",
    "\n",
    "                last = last + 1\n",
    "                last_time = t[last]\n",
    "\n",
    "            # add window to the fixations :D\n",
    "            window.append(last_time)\n",
    "            fixations.append(window)\n",
    "\n",
    "            # Remove window points from points  \n",
    "            i = last\n",
    "        else:\n",
    "            #print(\"dispersion liikaa lol\", last, i)\n",
    "            # Remove first point from points \n",
    "            i = i + 1\n",
    "\n",
    "    # return fixation points\n",
    "    return fixations\n"
   ]
  },
  {
   "cell_type": "code",
   "execution_count": 5,
   "metadata": {
    "colab": {
     "base_uri": "https://localhost:8080/"
    },
    "executionInfo": {
     "elapsed": 262,
     "status": "ok",
     "timestamp": 1667391614594,
     "user": {
      "displayName": "Jani Koskinen",
      "userId": "14657117496515148563"
     },
     "user_tz": -120
    },
    "id": "Z-6ORSybSqa1",
    "outputId": "3ac1f7e7-697d-49e9-d5d2-f09fd5dc183a"
   },
   "outputs": [],
   "source": [
    "# Task 2.\n",
    "fixations = our_idt(list(df_et['Gaze point X']), list(df_et['Gaze point Y']), list(df_et['Computer timestamp']), 7, 50000)\n",
    "\n",
    "fixation_timepoints = []\n",
    "\n",
    "for fixation_period in fixations:\n",
    "    asd = df_et[df_et['Computer timestamp'].between(fixation_period[0], fixation_period[1])]\n",
    "    for val in asd['Computer timestamp'].values:\n",
    "        fixation_timepoints.append(val)\n",
    "\n",
    "fixation_timepoints = np.array(fixation_timepoints).ravel()\n",
    "\n",
    "mask = (df_et['Computer timestamp'].isin(fixation_timepoints))"
   ]
  },
  {
   "cell_type": "markdown",
   "metadata": {
    "id": "CEt5AliaWp_b"
   },
   "source": [
    "**Task 3.** Plot your results and compare with Tobii's own results\n",
    "\n",
    "Run the below code to generate two side by side plots with fixations shown in green and saccades in red. Please note that your objective is not to exactly replicate the Tobii IV-T results with your algorithm, there will always be differences in how two algorithms can detect the gaze events."
   ]
  },
  {
   "cell_type": "code",
   "execution_count": 6,
   "metadata": {
    "colab": {
     "base_uri": "https://localhost:8080/",
     "height": 466
    },
    "executionInfo": {
     "elapsed": 938,
     "status": "ok",
     "timestamp": 1667391617022,
     "user": {
      "displayName": "Jani Koskinen",
      "userId": "14657117496515148563"
     },
     "user_tz": -120
    },
    "id": "jgg-UnS3XAXd",
    "outputId": "61cf77b6-c5e2-4df9-d63a-63787b8856cc"
   },
   "outputs": [
    {
     "data": {
      "text/plain": [
       "Text(0.5, 1.0, 'Our algorithm')"
      ]
     },
     "execution_count": 6,
     "metadata": {},
     "output_type": "execute_result"
    },
    {
     "data": {
      "image/png": "[encoded data removed]",
      "text/plain": [
       "<Figure size 1296x504 with 2 Axes>"
      ]
     },
     "metadata": {
      "needs_background": "light"
     },
     "output_type": "display_data"
    }
   ],
   "source": [
    "# Task 3. Plot your results and explore your results\n",
    "original_colors = ['green' if x == 'Fixation' else 'red' for x in df_et['Eye movement type']]\n",
    "our_colors = ['green' if x else 'red' for x in mask]\n",
    "\n",
    "fig, ax = plt.subplots(ncols=2, figsize=(18,7))\n",
    "ax[0].scatter(df_et['Gaze point X'], df_et['Gaze point Y'], color=original_colors, s=7)\n",
    "ax[1].scatter(df_et['Gaze point X'], df_et['Gaze point Y'], color=our_colors, s=7)\n",
    "ax[0].set_title('Tobii I-VT', fontdict={'fontsize':20})\n",
    "ax[1].set_title('Our algorithm', fontdict={'fontsize':20})"
   ]
  },
  {
   "cell_type": "markdown",
   "metadata": {
    "id": "jeVwXy48dJ0M"
   },
   "source": [
    "**Task 4.** After testing the results with different threshold values and parameters, discuss in your group and write down your answers to following questions:\n",
    "1. How different threshold values affect detection results?  \n",
    "**Answer**: When we increse the max distance -treshold, more of the saccades are being collected to fixations, and when lowering the min duration same event happens. There might be a few bugs in the code above, but with correct parameters it seems to work surprisingly well :D (actually surprised by the result after coding). Also, I am not completely sure if I followed the pseudo code 100% (for instance, the centroids are not yet collected but it could be added quite simply).\n",
    "\n",
    "2. Where did your and the Tobii's algorithm results differ the most?  \n",
    "**Answer**: The algorithm differs the most with single points which seem to be saccades, but it detects them as fixations.\n",
    "\n",
    "3. What are the implications of points 1. and 2. on designing and conducting experiments?  \n",
    "**Answer**: It is really important to tweak parameters regarding the device used and the quality of data (?). \n",
    "\n",
    "**After you are done, export this notebook as pdf showing your pseudocode, algorithm implementation and at least one plot comparing the results from Tobii with your results. You can add more plots with different parameter values if you want.**"
   ]
  }
 ],
 "metadata": {
  "colab": {
   "authorship_tag": "ABX9TyN3Ho0ljs6VZWgu1ktKJosg",
   "collapsed_sections": [],
   "provenance": []
  },
  "kernelspec": {
   "display_name": "Python 3.9.1 64-bit",
   "language": "python",
   "name": "python3"
  },
  "language_info": {
   "codemirror_mode": {
    "name": "ipython",
    "version": 3
   },
   "file_extension": ".py",
   "mimetype": "text/x-python",
   "name": "python",
   "nbconvert_exporter": "python",
   "pygments_lexer": "ipython3",
   "version": "3.9.1"
  },
  "vscode": {
   "interpreter": {
    "hash": "81794d4967e6c3204c66dcd87b604927b115b27c00565d3d43f05ba2f3a2cb0d"
   }
  }
 },
 "nbformat": 4,
 "nbformat_minor": 4
}
